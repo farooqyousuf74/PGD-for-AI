{
 "cells": [
  {
   "cell_type": "code",
   "execution_count": 33,
   "id": "05455be5-a780-4117-917b-fd66b1624009",
   "metadata": {},
   "outputs": [
    {
     "name": "stdin",
     "output_type": "stream",
     "text": [
      "Enter your age: 4\n"
     ]
    },
    {
     "name": "stdout",
     "output_type": "stream",
     "text": [
      "Age is less than 18.\n",
      "You cannot vote\n",
      "Outside condition box\n"
     ]
    }
   ],
   "source": [
    "number = int(input(\"Enter your age:\"))\n",
    "\n",
    "if(number >18 ):\n",
    "    print (\"You can vote and ur age is greater than 18\")\n",
    "elif(number == 18):\n",
    "    print (\"Age is equal to 18\")\n",
    "else:\n",
    "    print (\"Age is less than 18.\")\n",
    "    print (\"You cannot vote\")\n",
    "print (\"Outside condition box\")"
   ]
  },
  {
   "cell_type": "code",
   "execution_count": null,
   "id": "2fcbc2dc-84e6-4e36-9424-fad3f1c35346",
   "metadata": {},
   "outputs": [],
   "source": []
  }
 ],
 "metadata": {
  "kernelspec": {
   "display_name": "Python 3 (ipykernel)",
   "language": "python",
   "name": "python3"
  },
  "language_info": {
   "codemirror_mode": {
    "name": "ipython",
    "version": 3
   },
   "file_extension": ".py",
   "mimetype": "text/x-python",
   "name": "python",
   "nbconvert_exporter": "python",
   "pygments_lexer": "ipython3",
   "version": "3.12.4"
  }
 },
 "nbformat": 4,
 "nbformat_minor": 5
}
