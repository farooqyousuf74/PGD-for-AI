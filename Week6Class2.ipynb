{
 "cells": [
  {
   "cell_type": "markdown",
   "id": "0dcb2325-0327-495f-8681-56b8a9547283",
   "metadata": {},
   "source": [
    "# Guess Game\n"
   ]
  },
  {
   "cell_type": "code",
   "execution_count": 24,
   "id": "7930e2d2-1845-48af-bb3b-608f2f4ee2ae",
   "metadata": {},
   "outputs": [
    {
     "name": "stdin",
     "output_type": "stream",
     "text": [
      "Enter your guess 5\n"
     ]
    },
    {
     "name": "stdout",
     "output_type": "stream",
     "text": [
      "your guess is lesser than random \n"
     ]
    },
    {
     "name": "stdin",
     "output_type": "stream",
     "text": [
      "Enter your guess 5\n"
     ]
    },
    {
     "name": "stdout",
     "output_type": "stream",
     "text": [
      "your guess is lesser than random \n"
     ]
    },
    {
     "name": "stdin",
     "output_type": "stream",
     "text": [
      "Enter your guess 5\n"
     ]
    },
    {
     "name": "stdout",
     "output_type": "stream",
     "text": [
      "your guess is lesser than random \n",
      "your guess is not correct 77\n"
     ]
    }
   ],
   "source": [
    "import random\n",
    "random = random.randint(1,100)\n",
    "#print (random)\n",
    "loop=3\n",
    "while(loop > 0):\n",
    "    user_input= int(input(\"Enter your guess\"))\n",
    "    if (user_input == random):\n",
    "        print(\"You successfully guess the number\",loop)\n",
    "        break\n",
    "    elif(user_input > random):\n",
    "        print (\"your guess is greater than random \")\n",
    "    elif(user_input < random):\n",
    "        print (\"your guess is lesser than random \")\n",
    "    loop-=1\n",
    "else:\n",
    "    print (\"your guess is not correct\", random)\n",
    "    loop-=1\n"
   ]
  },
  {
   "cell_type": "code",
   "execution_count": 34,
   "id": "033c9462-688f-43bd-b828-7b70c41c766c",
   "metadata": {},
   "outputs": [
    {
     "name": "stdout",
     "output_type": "stream",
     "text": [
      "5\n",
      "0\n",
      "1\n",
      "2\n",
      "3\n",
      "4\n"
     ]
    }
   ],
   "source": [
    "import random\n",
    "random = random.randint(1,10)\n",
    "print (random)\n",
    "for num in range(0,random):\n",
    "    print(num) "
   ]
  },
  {
   "cell_type": "code",
   "execution_count": 42,
   "id": "851be795-830e-4038-9969-c11e7dced51d",
   "metadata": {},
   "outputs": [
    {
     "name": "stdout",
     "output_type": "stream",
     "text": [
      "(1, 50)\n",
      "(2, 45)\n",
      "(3, 55)\n"
     ]
    }
   ],
   "source": [
    "dict= {1:50,2:45,3:55}\n",
    "for num in dict.items():\n",
    "    print (num)\n"
   ]
  },
  {
   "cell_type": "code",
   "execution_count": 66,
   "id": "04e85a44-c2f1-4e54-8384-6deb61affd3c",
   "metadata": {},
   "outputs": [
    {
     "name": "stdout",
     "output_type": "stream",
     "text": [
      "10 10000\n",
      "9 9091\n",
      "8 8265\n",
      "7 7514\n",
      "6 6831\n",
      "5 6210\n",
      "4 5645\n",
      "3 5132\n",
      "2 4665\n",
      "1 4241\n"
     ]
    }
   ],
   "source": [
    "population = 10000\n",
    "for year in range(10,0,-1):\n",
    "    print (year,population)\n",
    "    population = round(population / 1.1)\n"
   ]
  },
  {
   "cell_type": "code",
   "execution_count": 80,
   "id": "71d8ab7a-431e-415f-90ba-b0031b957610",
   "metadata": {},
   "outputs": [
    {
     "name": "stdout",
     "output_type": "stream",
     "text": [
      "1 * 1 = 1\n",
      "1 * 2 = 2\n",
      "1 * 3 = 3\n",
      "1 * 4 = 4\n",
      "1 * 5 = 5\n",
      "1 * 6 = 6\n",
      "1 * 7 = 7\n",
      "1 * 8 = 8\n",
      "1 * 9 = 9\n",
      "1 * 10 = 10\n",
      "\n",
      "2 * 1 = 2\n",
      "2 * 2 = 4\n",
      "2 * 3 = 6\n",
      "2 * 4 = 8\n",
      "2 * 5 = 10\n",
      "2 * 6 = 12\n",
      "2 * 7 = 14\n",
      "2 * 8 = 16\n",
      "2 * 9 = 18\n",
      "2 * 10 = 20\n",
      "\n",
      "3 * 1 = 3\n",
      "3 * 2 = 6\n",
      "3 * 3 = 9\n",
      "3 * 4 = 12\n",
      "3 * 5 = 15\n",
      "3 * 6 = 18\n",
      "3 * 7 = 21\n",
      "3 * 8 = 24\n",
      "3 * 9 = 27\n",
      "3 * 10 = 30\n",
      "\n"
     ]
    }
   ],
   "source": [
    "for first in range(1,4):\n",
    "    for second in range(1,11):\n",
    "        print (first,\"*\", second, \"=\",first*second)\n",
    "    print (\"\")"
   ]
  },
  {
   "cell_type": "code",
   "execution_count": 19,
   "id": "9fd54f27-5356-4694-9f09-bf0d9d304b84",
   "metadata": {},
   "outputs": [
    {
     "name": "stdin",
     "output_type": "stream",
     "text": [
      "Enter number of rows 5\n"
     ]
    },
    {
     "name": "stdout",
     "output_type": "stream",
     "text": [
      "*\n",
      "**\n",
      "***\n",
      "****\n",
      "*****\n"
     ]
    }
   ],
   "source": [
    "row = int(input(\"Enter number of rows\"))\n",
    "for i in range(1,row+1):\n",
    "    for j in range (1,i+1):\n",
    "        print ('*',end='')\n",
    "    print (\"\")"
   ]
  },
  {
   "cell_type": "code",
   "execution_count": 21,
   "id": "7a5fe5d9-4c62-4a0d-89c0-61f84e0ece95",
   "metadata": {},
   "outputs": [
    {
     "name": "stdin",
     "output_type": "stream",
     "text": [
      "Enter number of rows 5\n"
     ]
    },
    {
     "name": "stdout",
     "output_type": "stream",
     "text": [
      "*****\n",
      "****\n",
      "***\n",
      "**\n",
      "*\n"
     ]
    }
   ],
   "source": [
    "row = int(input(\"Enter number of rows\"))\n",
    "for i in range(row,0,-1):\n",
    "    for j in range (1,i+1):\n",
    "        print ('*',end='')\n",
    "    print (\"\")"
   ]
  },
  {
   "cell_type": "code",
   "execution_count": 23,
   "id": "611809f0-4ec7-47fd-9d3e-1fdb87bc0d10",
   "metadata": {},
   "outputs": [
    {
     "name": "stdin",
     "output_type": "stream",
     "text": [
      "Enter number of rows 5\n"
     ]
    },
    {
     "name": "stdout",
     "output_type": "stream",
     "text": [
      "*\n",
      "**\n",
      "***\n",
      "****\n",
      "*****\n",
      "*****\n",
      "****\n",
      "***\n",
      "**\n",
      "*\n"
     ]
    }
   ],
   "source": [
    "row = int(input(\"Enter number of rows\"))\n",
    "for i in range(1,row+1):\n",
    "    for j in range (1,i+1):\n",
    "        print ('*',end='')\n",
    "    print (\"\")\n",
    "for i in range(row,0,-1):\n",
    "    for j in range (1,i+1):\n",
    "        print ('*',end='')\n",
    "    print (\"\")"
   ]
  },
  {
   "cell_type": "code",
   "execution_count": null,
   "id": "4926281a-62f6-41bd-b78a-8c9c7767f173",
   "metadata": {},
   "outputs": [],
   "source": []
  }
 ],
 "metadata": {
  "kernelspec": {
   "display_name": "Python 3 (ipykernel)",
   "language": "python",
   "name": "python3"
  },
  "language_info": {
   "codemirror_mode": {
    "name": "ipython",
    "version": 3
   },
   "file_extension": ".py",
   "mimetype": "text/x-python",
   "name": "python",
   "nbconvert_exporter": "python",
   "pygments_lexer": "ipython3",
   "version": "3.12.4"
  }
 },
 "nbformat": 4,
 "nbformat_minor": 5
}
