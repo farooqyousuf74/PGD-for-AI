{
 "cells": [
  {
   "cell_type": "code",
   "execution_count": 12,
   "id": "7eb988f3-c504-4453-820d-e9541c56afd0",
   "metadata": {},
   "outputs": [
    {
     "name": "stdout",
     "output_type": "stream",
     "text": [
      "1\n",
      "Banana\n",
      "Cat\n",
      "Farooq\n",
      "Shahrukh\n",
      "Riaz\n",
      "Aamir\n"
     ]
    }
   ],
   "source": [
    "mylist = [1,\"Banana\",\"Cat\",[\"Farooq\",\"Shahrukh\",\"Riaz\",\"Aamir\"]]\n",
    "\n",
    "\n",
    "for item in mylist:\n",
    "    itemType = type(item)\n",
    "    if itemType == list :\n",
    "        for next in item:\n",
    "            print (next)\n",
    "    else:\n",
    "        print (item)\n"
   ]
  },
  {
   "cell_type": "code",
   "execution_count": 45,
   "id": "a8316c72-7f28-4ed0-8483-1b9f9547b670",
   "metadata": {},
   "outputs": [
    {
     "name": "stdin",
     "output_type": "stream",
     "text": [
      "Enter number of rows 5\n"
     ]
    },
    {
     "name": "stdout",
     "output_type": "stream",
     "text": [
      "    1\n",
      "   121\n",
      "  12321\n",
      " 1234321\n",
      "123454321\n",
      " 1234321\n",
      "  12321\n",
      "   121\n",
      "    1\n"
     ]
    }
   ],
   "source": [
    "row = int(input(\"Enter number of rows\"))\n",
    "for i in range(1,row+1):\n",
    "    for m in range(row,i,-1):\n",
    "        print (\" \",end='')\n",
    "    for j in range (1,i+1):\n",
    "        print (j,end='')\n",
    "    for j in range(i-1,0,-1):\n",
    "        print (j,end='')\n",
    "    print ()\n",
    "for i in range(row-1,0,-1):\n",
    "    for m in range(row,i,-1):\n",
    "        print (\" \",end='')\n",
    "    for j in range (1,i+1):\n",
    "        print (j,end='')\n",
    "    for j in range(i-1,0,-1):\n",
    "        print (j,end='')\n",
    "    print ()"
   ]
  },
  {
   "cell_type": "code",
   "execution_count": 54,
   "id": "c619010a-1323-4972-832d-06909c584fde",
   "metadata": {},
   "outputs": [
    {
     "name": "stdout",
     "output_type": "stream",
     "text": [
      "Number 1 : 2\n",
      "Number 2 : 3\n",
      "5\n"
     ]
    }
   ],
   "source": [
    "def add(num1,num2):\n",
    "    print (\"Number 1 :\",num1)\n",
    "    print (\"Number 2 :\",num2)\n",
    "    addition = num1 + num2\n",
    "    return addition\n",
    "\n",
    "res= add(2,3)\n",
    "print (res)\n",
    "\n",
    "res= add(5,3)\n",
    "print (res)"
   ]
  },
  {
   "cell_type": "code",
   "execution_count": 58,
   "id": "a9e877ed-fee5-4996-9e73-7fc342b376f4",
   "metadata": {},
   "outputs": [
    {
     "name": "stdout",
     "output_type": "stream",
     "text": [
      "Good morning Ali, Have a nice day\n",
      "Good morning Farooq , Have a nice day\n",
      "Good morning Bharti , Have a nice day\n"
     ]
    },
    {
     "name": "stdin",
     "output_type": "stream",
     "text": [
      "Enter your name:  test\n"
     ]
    },
    {
     "name": "stdout",
     "output_type": "stream",
     "text": [
      "Good morning test , Have a nice day\n"
     ]
    }
   ],
   "source": [
    "def welcome():\n",
    "    print (\"Good morning Ali, Have a nice day\")\n",
    "welcome()\n",
    "\n",
    "def welcome(name):\n",
    "    print (\"Good morning\",name,\", Have a nice day\")\n",
    "welcome(\"Farooq\")\n",
    "\n",
    "def welcome(name):\n",
    "    print (\"Good morning\",name,\", Have a nice day\")\n",
    "name= \"Bharti\"\n",
    "welcome(name)\n",
    "\n",
    "def welcome(name):\n",
    "    print (\"Good morning\",name,\", Have a nice day\")\n",
    "name= input(\"Enter your name: \")\n",
    "welcome(name)"
   ]
  },
  {
   "cell_type": "code",
   "execution_count": 62,
   "id": "7cafd3c4-6102-43a7-9d50-40a2a64bfb44",
   "metadata": {},
   "outputs": [
    {
     "name": "stdin",
     "output_type": "stream",
     "text": [
      "Enter 1st number : 4\n",
      "Enter 2nd number : 2\n"
     ]
    },
    {
     "name": "stdout",
     "output_type": "stream",
     "text": [
      "6\n"
     ]
    }
   ],
   "source": [
    "def add(num1, num2):\n",
    "    return num1+num2\n",
    "\n",
    "n1 = int(input(\"Enter 1st number :\"))\n",
    "n2 = int(input(\"Enter 2nd number :\"))\n",
    "\n",
    "res= add(n1,n2)\n",
    "print (res)"
   ]
  },
  {
   "cell_type": "code",
   "execution_count": 76,
   "id": "848a6f52-3d20-413e-aa6e-57a7c3795637",
   "metadata": {},
   "outputs": [
    {
     "name": "stdin",
     "output_type": "stream",
     "text": [
      "Enter 1st number : 89\n"
     ]
    },
    {
     "data": {
      "text/plain": [
       "'False'"
      ]
     },
     "execution_count": 76,
     "metadata": {},
     "output_type": "execute_result"
    }
   ],
   "source": [
    "def iseven(number):\n",
    "    check =number%2\n",
    "    if(check ):\n",
    "        rt=\"False\"\n",
    "    else:\n",
    "        rt = \"True\"\n",
    "    return rt\n",
    "\n",
    "n1 = int(input(\"Enter 1st number :\"))\n",
    "iseven(n1)"
   ]
  },
  {
   "cell_type": "code",
   "execution_count": 80,
   "id": "a20b035e-f532-4450-9d11-6aca7ec09fe3",
   "metadata": {},
   "outputs": [
    {
     "name": "stdin",
     "output_type": "stream",
     "text": [
      "Enter 1st number : 4\n"
     ]
    },
    {
     "ename": "NameError",
     "evalue": "name 'number' is not defined",
     "output_type": "error",
     "traceback": [
      "\u001b[1;31m---------------------------------------------------------------------------\u001b[0m",
      "\u001b[1;31mNameError\u001b[0m                                 Traceback (most recent call last)",
      "Cell \u001b[1;32mIn[80], line 10\u001b[0m\n\u001b[0;32m      7\u001b[0m     \u001b[38;5;28;01mreturn\u001b[39;00m rt\n\u001b[0;32m      9\u001b[0m number1 \u001b[38;5;241m=\u001b[39m \u001b[38;5;28mint\u001b[39m(\u001b[38;5;28minput\u001b[39m(\u001b[38;5;124m\"\u001b[39m\u001b[38;5;124mEnter 1st number :\u001b[39m\u001b[38;5;124m\"\u001b[39m))\n\u001b[1;32m---> 10\u001b[0m iseven()\n",
      "Cell \u001b[1;32mIn[80], line 2\u001b[0m, in \u001b[0;36miseven\u001b[1;34m()\u001b[0m\n\u001b[0;32m      1\u001b[0m \u001b[38;5;28;01mdef\u001b[39;00m \u001b[38;5;21miseven\u001b[39m():\n\u001b[1;32m----> 2\u001b[0m     check \u001b[38;5;241m=\u001b[39mnumber\u001b[38;5;241m%\u001b[39m\u001b[38;5;241m2\u001b[39m\n\u001b[0;32m      3\u001b[0m     \u001b[38;5;28;01mif\u001b[39;00m(check ):\n\u001b[0;32m      4\u001b[0m         rt\u001b[38;5;241m=\u001b[39m\u001b[38;5;124m\"\u001b[39m\u001b[38;5;124mFalse\u001b[39m\u001b[38;5;124m\"\u001b[39m\n",
      "\u001b[1;31mNameError\u001b[0m: name 'number' is not defined"
     ]
    }
   ],
   "source": [
    "def iseven():\n",
    "    check =number%2\n",
    "    if(check ):\n",
    "        rt=\"False\"\n",
    "    else:\n",
    "        rt = \"True\"\n",
    "    return rt\n",
    "\n",
    "number1 = int(input(\"Enter 1st number :\"))\n",
    "iseven()"
   ]
  },
  {
   "cell_type": "code",
   "execution_count": 84,
   "id": "725ff5ae-3566-41aa-96a6-539206c23ebe",
   "metadata": {},
   "outputs": [
    {
     "name": "stdout",
     "output_type": "stream",
     "text": [
      "28.278 18.852\n"
     ]
    }
   ],
   "source": [
    "def pi():\n",
    "    return 3.142\n",
    "    \n",
    "def circle(radius):\n",
    "    area = pi() * (radius **2)\n",
    "    circum = 2 * pi() * radius\n",
    "    return (area,circum)\n",
    "radius = int(input(\"Enter the radius :\"))\n",
    "(a,b)=circle(radius)\n",
    "print (a,b)"
   ]
  },
  {
   "cell_type": "code",
   "execution_count": null,
   "id": "b29d5893-1746-4268-bf0c-8541b6f918be",
   "metadata": {},
   "outputs": [],
   "source": []
  }
 ],
 "metadata": {
  "kernelspec": {
   "display_name": "Python 3 (ipykernel)",
   "language": "python",
   "name": "python3"
  },
  "language_info": {
   "codemirror_mode": {
    "name": "ipython",
    "version": 3
   },
   "file_extension": ".py",
   "mimetype": "text/x-python",
   "name": "python",
   "nbconvert_exporter": "python",
   "pygments_lexer": "ipython3",
   "version": "3.12.4"
  }
 },
 "nbformat": 4,
 "nbformat_minor": 5
}
