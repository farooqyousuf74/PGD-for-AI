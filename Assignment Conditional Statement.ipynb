{
 "cells": [
  {
   "cell_type": "markdown",
   "id": "07f5c9ae-ecbd-44c1-90fa-a25f84a335fc",
   "metadata": {},
   "source": [
    "# Q1"
   ]
  },
  {
   "cell_type": "code",
   "execution_count": 10,
   "id": "c837926f-0f1b-4677-9dca-168909ef766e",
   "metadata": {},
   "outputs": [
    {
     "name": "stdin",
     "output_type": "stream",
     "text": [
      "Enter the number 67776\n"
     ]
    },
    {
     "name": "stdout",
     "output_type": "stream",
     "text": [
      "Number is divisable by 3\n"
     ]
    }
   ],
   "source": [
    "num = int(input(\"Enter the number\"))\n",
    "if not (num%3):\n",
    "    print(\"Number is divisable by 3\")\n",
    "else:\n",
    "    print (\"Number is not divisable by 3\")\n",
    "    "
   ]
  },
  {
   "cell_type": "markdown",
   "id": "02294289-b731-4759-8461-d564fd810df6",
   "metadata": {},
   "source": [
    "# Q2"
   ]
  },
  {
   "cell_type": "markdown",
   "id": "59d3a503-c48c-4180-bb23-1a4d3b62469c",
   "metadata": {},
   "source": [
    "num = int(input(\"Enter the number\"))\n",
    "if not (num%2):\n",
    "    print(\"Number is Even\")\n",
    "else:\n",
    "    print (\"Number is Odd\")\n",
    "    "
   ]
  },
  {
   "cell_type": "markdown",
   "id": "05f95bb9-29fe-4aee-88da-e0201450ed46",
   "metadata": {},
   "source": [
    "# Q3"
   ]
  },
  {
   "cell_type": "code",
   "execution_count": 20,
   "id": "78f5f31b-4a42-4b90-b5c4-5507119b877b",
   "metadata": {},
   "outputs": [
    {
     "name": "stdin",
     "output_type": "stream",
     "text": [
      "Enter your age 55\n"
     ]
    },
    {
     "name": "stdout",
     "output_type": "stream",
     "text": [
      "Old Enough\n"
     ]
    }
   ],
   "source": [
    "num = int(input(\"Enter your age\"))\n",
    "if  (num > 18):\n",
    "    print(\"Old Enough\")\n",
    "else:\n",
    "    print (\"Too Young\")"
   ]
  },
  {
   "cell_type": "markdown",
   "id": "a73b695c-88ac-4dd8-8003-38d4204a609f",
   "metadata": {},
   "source": [
    "# Q4"
   ]
  },
  {
   "cell_type": "code",
   "execution_count": 28,
   "id": "db070bd9-068f-4c7a-8a8d-f123d6b79278",
   "metadata": {},
   "outputs": [
    {
     "name": "stdin",
     "output_type": "stream",
     "text": [
      "Enter your name farooq\n"
     ]
    },
    {
     "name": "stdout",
     "output_type": "stream",
     "text": [
      "Welcome Farooq, How are you\n"
     ]
    }
   ],
   "source": [
    "myname = \"Farooq\"\n",
    "name = (input(\"Enter your name\"))\n",
    "if  (str.upper(name) == str.upper(myname)):\n",
    "    print(\"Welcome Farooq, How are you\")\n",
    "else:\n",
    "    print (\"Sorry wrong person\")"
   ]
  },
  {
   "cell_type": "markdown",
   "id": "0cd5ad86-3474-4abf-98cb-9b80a1795578",
   "metadata": {},
   "source": [
    "# Q 5"
   ]
  },
  {
   "cell_type": "code",
   "execution_count": 38,
   "id": "948709c9-eddf-4a12-b054-dd9b18743aae",
   "metadata": {},
   "outputs": [
    {
     "name": "stdin",
     "output_type": "stream",
     "text": [
      "Enter the year 1960\n"
     ]
    },
    {
     "name": "stdout",
     "output_type": "stream",
     "text": [
      "Leap Year\n"
     ]
    }
   ],
   "source": [
    "year = int(input(\"Enter the year\"))\n",
    "if not (year%4):\n",
    "    print(\"Leap Year\")\n",
    "else:\n",
    "    print (\"Not a Leap Year\")"
   ]
  },
  {
   "cell_type": "markdown",
   "id": "05412d25-bff7-43f8-8a10-b3c6f93c4e8b",
   "metadata": {},
   "source": [
    "# Q 6\n"
   ]
  },
  {
   "cell_type": "code",
   "execution_count": 46,
   "id": "96562d18-59a8-4588-bafc-14b44fa8cca9",
   "metadata": {},
   "outputs": [
    {
     "name": "stdin",
     "output_type": "stream",
     "text": [
      "Enter the first number 4\n",
      "Enter the second number 6\n"
     ]
    },
    {
     "name": "stdout",
     "output_type": "stream",
     "text": [
      "Number2 ( 6 ) is greater than number 1 ( 4 )\n"
     ]
    }
   ],
   "source": [
    "num1 = int(input(\"Enter the first number\"))\n",
    "num2 = int(input(\"Enter the second number\"))\n",
    "\n",
    "if (num1 == num2):\n",
    "    print(\"Number are equal\")\n",
    "elif (num1 > num2):\n",
    "    print (\"Number1 (\",num1,\") is greater than number 2 (\",num2,\")\")\n",
    "else:\n",
    "    print (\"Number2 (\",num2,\") is greater than number 1 (\",num1,\")\")\n",
    "    \n",
    "     "
   ]
  },
  {
   "cell_type": "markdown",
   "id": "fc8adc45-e260-453c-920a-96504a8da55b",
   "metadata": {},
   "source": [
    "# Q 7"
   ]
  },
  {
   "cell_type": "code",
   "execution_count": 50,
   "id": "d0c0576a-2ae7-4ad7-bb4d-e61ffebd6b45",
   "metadata": {},
   "outputs": [
    {
     "name": "stdin",
     "output_type": "stream",
     "text": [
      "Enter the number -1\n"
     ]
    },
    {
     "name": "stdout",
     "output_type": "stream",
     "text": [
      "Number ( -1 ) is negative\n"
     ]
    }
   ],
   "source": [
    "num = int(input(\"Enter the number\"))\n",
    "\n",
    "\n",
    "if (num == 0):\n",
    "    print(\"Number is zero\")\n",
    "elif (num > 0):\n",
    "    print (\"Number (\",num,\") is positive\")\n",
    "else:\n",
    "    print (\"Number (\",num,\") is negative\")\n",
    "    "
   ]
  },
  {
   "cell_type": "markdown",
   "id": "9b1e2932-8548-4bef-9af7-3c8648bec58d",
   "metadata": {},
   "source": [
    "# Q 8"
   ]
  },
  {
   "cell_type": "code",
   "execution_count": 60,
   "id": "152c0a13-ff94-4d5d-b3f4-8f4d80628948",
   "metadata": {},
   "outputs": [
    {
     "name": "stdin",
     "output_type": "stream",
     "text": [
      "Enter the character a\n"
     ]
    },
    {
     "name": "stdout",
     "output_type": "stream",
     "text": [
      "You entered a vowel\n"
     ]
    }
   ],
   "source": [
    "char= input(\"Enter the character\")\n",
    "\n",
    "if (len(char) > 1):\n",
    "    print (\"You entered a word\")\n",
    "elif (char in ('a','e','i','o','u')):\n",
    "    print (\"You entered a vowel\")\n",
    "else:\n",
    "    print (\"You entered a constant\")"
   ]
  },
  {
   "cell_type": "markdown",
   "id": "5ca29868-794f-4166-b488-da6ee4a60cd3",
   "metadata": {},
   "source": [
    "# Q 9"
   ]
  },
  {
   "cell_type": "code",
   "execution_count": 67,
   "id": "dc94f36e-aa05-47b5-afdb-b1d51fc14406",
   "metadata": {},
   "outputs": [
    {
     "name": "stdin",
     "output_type": "stream",
     "text": [
      "Enter your age 33\n"
     ]
    },
    {
     "name": "stdout",
     "output_type": "stream",
     "text": [
      "Old enough\n"
     ]
    }
   ],
   "source": [
    "age = int(input(\"Enter your age\"))\n",
    "votable = \"Too Young\" if  (age < 18) else \"Old enough\"\n",
    "print (votable)"
   ]
  },
  {
   "cell_type": "markdown",
   "id": "a38c3c3e-f11c-4c59-b6a0-d3aebdd400b6",
   "metadata": {},
   "source": [
    "# Q 10"
   ]
  },
  {
   "cell_type": "code",
   "execution_count": 74,
   "id": "503b4c77-f691-41bb-b72f-25f625e7cb79",
   "metadata": {},
   "outputs": [
    {
     "name": "stdin",
     "output_type": "stream",
     "text": [
      "Enter your password fa\n"
     ]
    },
    {
     "name": "stdout",
     "output_type": "stream",
     "text": [
      "Wrong password \n"
     ]
    },
    {
     "name": "stdin",
     "output_type": "stream",
     "text": [
      "Enter your password again farooq\n"
     ]
    },
    {
     "name": "stdout",
     "output_type": "stream",
     "text": [
      "Welcome onboard\n"
     ]
    }
   ],
   "source": [
    "mypassword = \"farooq\"\n",
    "password = input(\"Enter your password\")\n",
    "if (password != mypassword):\n",
    "    print (\"Wrong password \")\n",
    "    password = input(\"Enter your password again\")\n",
    "    if (password != mypassword):\n",
    "        print (\"You entered worng password again. Bye Bye \")\n",
    "    else:\n",
    "        print (\"Welcome onboard\")\n",
    "else:\n",
    "    print (\"Welcome onboard\")"
   ]
  },
  {
   "cell_type": "markdown",
   "id": "477fbae8-fa8c-48c5-ab68-dece4cb2574c",
   "metadata": {},
   "source": [
    "# Q 11"
   ]
  },
  {
   "cell_type": "code",
   "execution_count": 87,
   "id": "b8e03da8-7338-400f-9d52-9c1d18586338",
   "metadata": {},
   "outputs": [
    {
     "name": "stdin",
     "output_type": "stream",
     "text": [
      "Enter time in hhmm format 66666\n"
     ]
    },
    {
     "name": "stdout",
     "output_type": "stream",
     "text": [
      "You entered the wrong format\n"
     ]
    }
   ],
   "source": [
    "time=(input(\"Enter time in hhmm format\"))\n",
    "\n",
    "if (len(time) != 4 ):\n",
    "    print(\"You entered the wrong format\")\n",
    "elif (int(time) < 1200):\n",
    "    print (\"Good Morning\")\n",
    "elif (int(time) < 1700):\n",
    "    print (\"Good Afternoon\")\n",
    "elif (int(time) < 2100):\n",
    "    print(\"Good Evening\")\n",
    "elif (int(time) < 2400):\n",
    "    print (\"Good Night\")\n",
    "else:\n",
    "    print (\"Wrong time\")"
   ]
  },
  {
   "cell_type": "code",
   "execution_count": null,
   "id": "06cf59f2-9eeb-4053-9586-0f7853e6543b",
   "metadata": {},
   "outputs": [],
   "source": []
  }
 ],
 "metadata": {
  "kernelspec": {
   "display_name": "Python 3 (ipykernel)",
   "language": "python",
   "name": "python3"
  },
  "language_info": {
   "codemirror_mode": {
    "name": "ipython",
    "version": 3
   },
   "file_extension": ".py",
   "mimetype": "text/x-python",
   "name": "python",
   "nbconvert_exporter": "python",
   "pygments_lexer": "ipython3",
   "version": "3.12.4"
  }
 },
 "nbformat": 4,
 "nbformat_minor": 5
}
