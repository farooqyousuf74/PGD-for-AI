{
 "cells": [
  {
   "cell_type": "markdown",
   "id": "22fafb9b-fc7a-45eb-aebb-fca2f6a84bcf",
   "metadata": {},
   "source": [
    "Name: Farooq Yousuf\r\n",
    "profession Software Management:\r\n",
    "organizatio EOCEAN (Pvt) Ltdn:\r\n",
    "contact  03343963625No:\r\n",
    "Em farooq.yousuf@gmail.com ail:"
   ]
  },
  {
   "cell_type": "markdown",
   "id": "741f19e7-3e42-4984-95a7-5ca1984a8f12",
   "metadata": {},
   "source": [
    "# Q1 (a)"
   ]
  },
  {
   "cell_type": "code",
   "execution_count": 19,
   "id": "84cf300b-b4a6-447b-81b0-86f6a3307bd1",
   "metadata": {},
   "outputs": [
    {
     "name": "stdout",
     "output_type": "stream",
     "text": [
      "['apple', 'banana', 'cherry', 'date', 'elderberry']\n"
     ]
    }
   ],
   "source": [
    "fruits = ['apple', 'banana', 'cherry', 'date']\n",
    "fruits.append('elderberry')\n",
    "print (fruits)"
   ]
  },
  {
   "cell_type": "markdown",
   "id": "b845705a-67d8-4668-8aaa-d85c6759d44d",
   "metadata": {},
   "source": [
    "# Answer :Insert new element at the end of the list\n"
   ]
  },
  {
   "cell_type": "markdown",
   "id": "8e906cb1-5432-431d-b030-ef02ad16d266",
   "metadata": {},
   "source": [
    "# Q1 (b)"
   ]
  },
  {
   "cell_type": "code",
   "execution_count": 21,
   "id": "64513dea-7d21-497d-b9f1-5af679c1eadc",
   "metadata": {},
   "outputs": [
    {
     "name": "stdout",
     "output_type": "stream",
     "text": [
      "['apple', 'cherry', 'date', 'elderberry']\n"
     ]
    }
   ],
   "source": [
    "fruits.remove('banana')\n",
    "print (fruits)"
   ]
  },
  {
   "cell_type": "markdown",
   "id": "6770bdc8-aa22-460b-9415-276d66c906c5",
   "metadata": {},
   "source": [
    "# Answer : Remove banaan from the list"
   ]
  },
  {
   "cell_type": "markdown",
   "id": "401c2a5d-ba48-44eb-bc06-6190134783b3",
   "metadata": {},
   "source": [
    "# Q1 (c)"
   ]
  },
  {
   "cell_type": "code",
   "execution_count": 29,
   "id": "f718403d-093b-479b-a9ce-2344290ed86e",
   "metadata": {},
   "outputs": [
    {
     "name": "stdout",
     "output_type": "stream",
     "text": [
      "['apple', 'cherry', 'elderberry']\n"
     ]
    }
   ],
   "source": [
    "fruits.pop(2)\n",
    "print (fruits)"
   ]
  },
  {
   "cell_type": "markdown",
   "id": "6d64f704-870a-42e5-8b56-87c78ab26bcc",
   "metadata": {},
   "source": [
    "# Answer: pop third element of ths list. List index start from 0"
   ]
  },
  {
   "cell_type": "markdown",
   "id": "db0ac996-4a7a-481e-9af3-61bf2f00d8e0",
   "metadata": {},
   "source": [
    "# Q2"
   ]
  },
  {
   "cell_type": "code",
   "execution_count": 33,
   "id": "8eb4fb77-9b6d-4a87-b83c-4b6327f03e4f",
   "metadata": {},
   "outputs": [
    {
     "name": "stdin",
     "output_type": "stream",
     "text": [
      "Enter your name Farooq\n",
      "Enter your age 50\n"
     ]
    },
    {
     "name": "stdout",
     "output_type": "stream",
     "text": [
      "Hello Farooq you are  50 years old\n"
     ]
    }
   ],
   "source": [
    "name = input(\"Enter your name\")\n",
    "age = int(input(\"Enter your age\"))\n",
    "\n",
    "print (\"Hello\",name,\"you are \",age,\"years old\")"
   ]
  },
  {
   "cell_type": "markdown",
   "id": "e2de0f13-7a82-48e5-b3b5-0865d9e0af49",
   "metadata": {},
   "source": [
    "# Answer: coding done\n"
   ]
  },
  {
   "cell_type": "markdown",
   "id": "c2640332-245f-4d44-a643-1566f1e2ac8b",
   "metadata": {},
   "source": [
    "# Q3 "
   ]
  },
  {
   "cell_type": "code",
   "execution_count": 67,
   "id": "3da3a717-5ea4-4d93-af22-e9effdf57917",
   "metadata": {},
   "outputs": [
    {
     "name": "stdin",
     "output_type": "stream",
     "text": [
      "Enter the number d\n"
     ]
    },
    {
     "name": "stdout",
     "output_type": "stream",
     "text": [
      "Input is not a number\n"
     ]
    }
   ],
   "source": [
    "number1 = (input(\"Enter the number\"))\n",
    "\n",
    "if (number1.replace(\".\",\"\").replace(\"-\",\"\").replace(\"+\",\"\").isdigit() ):\n",
    "    number = float(number1)\n",
    "    if (number > 0 ):\n",
    "        print(\"Number is positive\")\n",
    "    elif (number < 0):\n",
    "        print (\"number is negative\")\n",
    "    else:\n",
    "        print (\"Number is zero\")\n",
    "else:\n",
    "    print (\"Input is not a number\")\n"
   ]
  },
  {
   "cell_type": "markdown",
   "id": "8fcfabdb-51d2-48e1-a864-e761af89ed24",
   "metadata": {},
   "source": [
    "# Q4 "
   ]
  },
  {
   "cell_type": "code",
   "execution_count": 69,
   "id": "5dd34bae-9a3a-4121-91ae-c0db01e22c8c",
   "metadata": {},
   "outputs": [
    {
     "name": "stdout",
     "output_type": "stream",
     "text": [
      "1.3055555555555556\n"
     ]
    }
   ],
   "source": [
    "num = ( (2 * 5)  + (17 / 3) )/ (4 * 3)\n",
    "print (num)"
   ]
  },
  {
   "cell_type": "markdown",
   "id": "98af7ad5-e40a-41ff-8ff3-0ad902eba31f",
   "metadata": {},
   "source": [
    "# Q5\n"
   ]
  },
  {
   "cell_type": "code",
   "execution_count": 78,
   "id": "da83019d-1ed5-4817-9677-c7b773cd3b2b",
   "metadata": {},
   "outputs": [
    {
     "name": "stdin",
     "output_type": "stream",
     "text": [
      "Enter the diameter of the circle 23\n"
     ]
    },
    {
     "name": "stdout",
     "output_type": "stream",
     "text": [
      "Area of a circle  415.26500000000004\n",
      "Circumferance of a circle 72.22\n"
     ]
    }
   ],
   "source": [
    "dia = int(input(\"Enter the diameter of the circle\"))\n",
    "\n",
    "radius = dia /2 \n",
    "circum_of_circle = 2 * 3.14 * radius\n",
    "area_of_circle = 3.14 * radius**2\n",
    "print(\"Area of a circle \",area_of_circle) \n",
    "print (\"Circumferance of a circle\",circum_of_circle)"
   ]
  },
  {
   "cell_type": "markdown",
   "id": "fd871e3e-6ca1-43ca-8484-0aa07393c304",
   "metadata": {},
   "source": [
    "# Q 6"
   ]
  },
  {
   "cell_type": "code",
   "execution_count": 85,
   "id": "adef497f-008f-4050-883e-4b3983d7374a",
   "metadata": {},
   "outputs": [
    {
     "name": "stdout",
     "output_type": "stream",
     "text": [
      "Total Profit 800\n"
     ]
    }
   ],
   "source": [
    "Cost = 5000\n",
    "NumberOfPessenger = 29\n",
    "ChargePerPessenger = 200\n",
    "TotalIncome = NumberOfPessenger * ChargePerPessenger\n",
    "Profit= TotalIncome - Cost\n",
    "print (\"Total Profit\", Profit)"
   ]
  },
  {
   "cell_type": "markdown",
   "id": "7a562935-14cf-49cc-b1b5-db48ecfa297a",
   "metadata": {},
   "source": [
    "# Q 7"
   ]
  },
  {
   "cell_type": "code",
   "execution_count": 17,
   "id": "21043c1b-37df-4c42-afbc-786a714f0f2b",
   "metadata": {},
   "outputs": [
    {
     "name": "stdin",
     "output_type": "stream",
     "text": [
      "\n",
      "1. Addition\n",
      "2. Subtraction\n",
      "3. Multiplication\n",
      "4. Factorial\n",
      "5. Division\n",
      "6. Exponentiation (Power)\n",
      "7. Square Root\n",
      " 7\n",
      "Enter your Number 25\n",
      "Enter your Number 2\n"
     ]
    }
   ],
   "source": [
    "import math\n",
    "option = int(input('''\n",
    "1. Addition\n",
    "2. Subtraction\n",
    "3. Multiplication\n",
    "4. Factorial\n",
    "5. Division\n",
    "6. Exponentiation (Power)\n",
    "7. Square Root\n",
    "'''))\n",
    "if (option < 8 and option >0):\n",
    "    number1 = float(input(\"Enter your Number\"))\n",
    "    number2 = float(input(\"Enter your Number\"))\n",
    "    if option == '1':\n",
    "        print(\"Addition of\",number1,'and',number2,'is:',number1+number2)\n",
    "    elif option =='2':\n",
    "        print(\"Difference of\",number1,'and',number2,'is:',number1-number2)\n",
    "    elif option =='3':\n",
    "        print(\"Product of\",number1,'and',number2,'is:',number1*number2)\n",
    "    elif option =='4':\n",
    "        if (number1 >0):\n",
    "            print(\"Factorial of\",number1,'and',number2,'is:',math.factorial(number1))\n",
    "        else:\n",
    "            print (\"Factorial cannot be calculated on negative numbers\")\n",
    "    elif option =='5':\n",
    "        if(number2!=0):\n",
    "            print(\"Division of\",number1,'and',number2,'is:',number1/number2)\n",
    "        else:\n",
    "            print(\"Division by Zero is not allowed\")\n",
    "    elif option =='6':\n",
    "        print(\"Power of\",number1,'and',number2,'is:',number1**number2)\n",
    "    elif option =='7':\n",
    "        if(number1 > 0):\n",
    "            print(\"Square Root of\",number1,'and',number2,'is:',math.sqrt(number1))\n",
    "        else:\n",
    "            print (\"Square root for non negative number is not allowed\")\n",
    "\n",
    "else:\n",
    "    print(\"Select valid Number\")"
   ]
  },
  {
   "cell_type": "markdown",
   "id": "a682dc90-c410-4ff8-aed6-12d787cf1055",
   "metadata": {},
   "source": [
    "# Q 8\n"
   ]
  },
  {
   "cell_type": "code",
   "execution_count": 26,
   "id": "736a960d-ab26-41d7-bc90-9432415b95f9",
   "metadata": {},
   "outputs": [
    {
     "name": "stdin",
     "output_type": "stream",
     "text": [
      "Enter your email address farooq@gmail.com\n",
      "Enter your user name ahmed@gmail.com\n",
      "enter your password 213\n"
     ]
    },
    {
     "name": "stdout",
     "output_type": "stream",
     "text": [
      "Wrong password \n"
     ]
    },
    {
     "name": "stdin",
     "output_type": "stream",
     "text": [
      "Enter password Again ahmed@321\n"
     ]
    },
    {
     "name": "stdout",
     "output_type": "stream",
     "text": [
      "Welcome to Gmail after 2nd Attempt\n"
     ]
    }
   ],
   "source": [
    "user_name = \"ahmed@gmail.com\"\n",
    "password =\"ahmed@321\"\n",
    "\n",
    "inp_email_address = input(\"Enter your email address\")\n",
    "\n",
    "\n",
    "if (\"@\" in inp_email_address):\n",
    "    inp_user_name = input(\"Enter your user name\")\n",
    "    inp_password = input(\"enter your password\")\n",
    "    if( inp_user_name == user_name) & (inp_password == password):\n",
    "        print (\"Welcome: You are successful login\")\n",
    "    \n",
    "    elif(inp_user_name == user_name) & (inp_password != password ):\n",
    "        print (\"Wrong password \")\n",
    "        inp_password = input(\"Enter password Again\")\n",
    "        if (inp_password == password ):\n",
    "            print(\"Welcome to Gmail after 2nd Attempt\")\n",
    "        else:\n",
    "            print(\"Bhai app Rehny den\")\n",
    "    else:\n",
    "        print (\"You entered invalid creditionals\")\n",
    "else:\n",
    "    print (\"Not a valid email address\")"
   ]
  },
  {
   "cell_type": "markdown",
   "id": "e5db71a8-359e-4e1d-87ad-d163f0c52e1d",
   "metadata": {},
   "source": [
    "# Q 9"
   ]
  },
  {
   "cell_type": "code",
   "execution_count": 31,
   "id": "0d84ff78-cea8-4297-8e98-b2b0b00a0f38",
   "metadata": {},
   "outputs": [
    {
     "name": "stdout",
     "output_type": "stream",
     "text": [
      "12.5\n"
     ]
    }
   ],
   "source": [
    "x,y,z = (12.5, 45.8, 33.1)\n",
    "print (x)"
   ]
  },
  {
   "cell_type": "code",
   "execution_count": 33,
   "id": "047efd45-8220-4162-8495-3996946a0d79",
   "metadata": {},
   "outputs": [],
   "source": [
    "# tuples are use where these values cannot be change. \n",
    "# List can be change. \n"
   ]
  },
  {
   "cell_type": "code",
   "execution_count": 66,
   "id": "46c6aa53-6ec2-4021-8b2f-92448ca3b69c",
   "metadata": {},
   "outputs": [
    {
     "name": "stdout",
     "output_type": "stream",
     "text": [
      "{'Ali': 85, 'Saima': 90, 'Kabeer': 78, 'Ahmed': 92}\n",
      "{'Ali': 85, 'Saima': 90, 'Kabeer': 82, 'Ahmed': 92}\n"
     ]
    }
   ],
   "source": [
    "student_scores = {'Ali': 85, 'Saima': 90, 'Kabeer': 78}\n",
    "new = {\"Ahmed\":92}\n",
    "student_scores.update(new)\n",
    "print(student_scores) \n",
    "\n",
    "new = {\"Kabeer\":82}\n",
    "student_scores['Kabeer'] = 82\n",
    "\n",
    "print(student_scores) "
   ]
  },
  {
   "cell_type": "code",
   "execution_count": null,
   "id": "6809c02c-880c-4079-a695-0c529725ddcf",
   "metadata": {},
   "outputs": [],
   "source": []
  },
  {
   "cell_type": "code",
   "execution_count": null,
   "id": "9c55264d-bf62-440d-b243-cfba1958ea52",
   "metadata": {},
   "outputs": [],
   "source": []
  }
 ],
 "metadata": {
  "kernelspec": {
   "display_name": "Python 3 (ipykernel)",
   "language": "python",
   "name": "python3"
  },
  "language_info": {
   "codemirror_mode": {
    "name": "ipython",
    "version": 3
   },
   "file_extension": ".py",
   "mimetype": "text/x-python",
   "name": "python",
   "nbconvert_exporter": "python",
   "pygments_lexer": "ipython3",
   "version": "3.12.4"
  }
 },
 "nbformat": 4,
 "nbformat_minor": 5
}
