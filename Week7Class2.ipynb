{
 "cells": [
  {
   "cell_type": "code",
   "execution_count": 11,
   "id": "010eb674-bf61-4044-9fd4-50c8af402a0d",
   "metadata": {},
   "outputs": [
    {
     "name": "stdin",
     "output_type": "stream",
     "text": [
      "Enter the radius : 5\n"
     ]
    },
    {
     "name": "stdout",
     "output_type": "stream",
     "text": [
      "78.55 31.419999999999998\n"
     ]
    }
   ],
   "source": [
    "def pi():\n",
    "    return 3.142\n",
    "    \n",
    "def circle(radius):\n",
    "    area = pi() * (radius **2)\n",
    "    circum = 2 * pi() * radius\n",
    "    return (area,circum)\n",
    "radius = int(input(\"Enter the radius :\"))\n",
    "(a,b)=circle(radius)\n",
    "print (a,b)"
   ]
  },
  {
   "cell_type": "code",
   "execution_count": 19,
   "id": "fc17e1a7-180d-41f6-b84c-5e4321054b60",
   "metadata": {},
   "outputs": [
    {
     "name": "stdout",
     "output_type": "stream",
     "text": [
      "[3, 5, 2, 5, 2.3, 'hello'] [9, 25, 4, 25, 2.3, 'hello']\n"
     ]
    }
   ],
   "source": [
    "def square_list(list):\n",
    "    temp_list = []\n",
    "    for num in list:\n",
    "        if type(num) == int:\n",
    "            temp_list.append(num**2)\n",
    "        else:\n",
    "            temp_list.append(num)\n",
    "    return temp_list\n",
    "\n",
    "\n",
    "mylist = [3,5,2,5,2.3,\"hello\"]\n",
    "result = square_list(mylist)\n",
    "print (mylist,result)"
   ]
  },
  {
   "cell_type": "code",
   "execution_count": 5,
   "id": "89d192f8-668d-40ad-bc6e-c9d756de9fb8",
   "metadata": {},
   "outputs": [
    {
     "name": "stdout",
     "output_type": "stream",
     "text": [
      "<class 'int'> 3 0\n",
      "<class 'list'> [4, 5, 6] 3\n",
      "in list\n",
      "<class 'int'> 4 0\n",
      "<class 'int'> 5 4\n",
      "<class 'int'> 6 9\n",
      "15\n",
      "[3, [4, 5, 6]] 18\n"
     ]
    }
   ],
   "source": [
    "def sum_list(looplist):\n",
    "    total=0\n",
    "    for num in looplist:\n",
    "        itemType = type(num)\n",
    "        print (itemType,num, total)\n",
    "        if itemType == int :\n",
    "            total+=num\n",
    "        elif itemType == float :\n",
    "            total+=num\n",
    "        elif itemType == list :\n",
    "            print (\"in list\")\n",
    "            t=sum_list(num)\n",
    "            print(t)\n",
    "            total+=t\n",
    "        else:\n",
    "            total=total\n",
    "    return total\n",
    "\n",
    "\n",
    "mylist = [3,[4,5,6]]\n",
    "result = sum_list(mylist)\n",
    "print (mylist,result)"
   ]
  },
  {
   "cell_type": "code",
   "execution_count": 11,
   "id": "8554b4c2-a0be-48b5-a8fd-e193b84aa7fb",
   "metadata": {},
   "outputs": [
    {
     "name": "stdout",
     "output_type": "stream",
     "text": [
      "<class 'list'> [4, 5] 1\n",
      "in list\n",
      "<class 'int'> 4 1\n",
      "<class 'int'> 5 4\n",
      "20\n",
      "<class 'list'> [2, 3] 20\n",
      "in list\n",
      "<class 'int'> 2 1\n",
      "<class 'int'> 3 2\n",
      "6\n",
      "[[4, 5], [2, 3]] 120\n"
     ]
    }
   ],
   "source": [
    "def product_list(looplist):\n",
    "    total=1\n",
    "    for num in looplist:\n",
    "        itemType = type(num)\n",
    "        print (itemType,num, total)\n",
    "        if itemType == int :\n",
    "            total *=num\n",
    "        elif itemType == float :\n",
    "            total *=num\n",
    "        elif itemType == list :\n",
    "            print (\"in list\")\n",
    "            t=product_list(num)\n",
    "            print(t)\n",
    "            total *=t\n",
    "        else:\n",
    "            total=total\n",
    "    return total\n",
    "\n",
    "\n",
    "mylist = [[4,5],[2,3]]\n",
    "result = product_list(mylist)\n",
    "print (mylist,result)"
   ]
  },
  {
   "cell_type": "code",
   "execution_count": 3,
   "id": "e1d8ec11-5f5a-4622-b87c-21df37a583f5",
   "metadata": {},
   "outputs": [
    {
     "data": {
      "text/plain": [
       "'You entered invalid input'"
      ]
     },
     "execution_count": 3,
     "metadata": {},
     "output_type": "execute_result"
    }
   ],
   "source": [
    "def is_valid_even(number):\n",
    "    if (type(number) == int):\n",
    "        check =number%2\n",
    "        if(check ):\n",
    "            rt=\"False\"\n",
    "        else:\n",
    "            rt = \"True\"\n",
    "    else:\n",
    "        rt=\"You entered invalid input\"\n",
    "    return rt\n",
    "\n",
    "is_valid_even('fsf')"
   ]
  },
  {
   "cell_type": "code",
   "execution_count": 11,
   "id": "afec244b-66c2-4cda-b0d9-22e4c7c6ad9e",
   "metadata": {},
   "outputs": [
    {
     "name": "stdout",
     "output_type": "stream",
     "text": [
      "Number is  10 Category Even\n",
      "Number is  11 Category Odd\n",
      "Number is  12 Category Even\n",
      "Number is  13 Category Odd\n",
      "Number is  14 Category Even\n",
      "Number is  15 Category Odd\n",
      "Number is  16 Category Even\n",
      "Number is  17 Category Odd\n",
      "Number is  18 Category Even\n",
      "Number is  19 Category Odd\n"
     ]
    }
   ],
   "source": [
    "def is_valid_even(number):\n",
    "    if (type(number) == int):\n",
    "        check =number%2\n",
    "        if(check ):\n",
    "            rt=\"Odd\"\n",
    "        else:\n",
    "            rt = \"Even\"\n",
    "    else:\n",
    "        rt=\"You entered invalid input\"\n",
    "    return rt\n",
    "\n",
    "for i in range (10,20):\n",
    "    print(\"Number is \",i,\"Category\",is_valid_even(i))\n",
    "    "
   ]
  },
  {
   "cell_type": "code",
   "execution_count": 21,
   "id": "4d333bad-4a36-43c0-a380-45c78d7e1d10",
   "metadata": {},
   "outputs": [
    {
     "data": {
      "text/plain": [
       "8"
      ]
     },
     "execution_count": 21,
     "metadata": {},
     "output_type": "execute_result"
    }
   ],
   "source": [
    "def power(a=1,b=1):\n",
    "    return(a**b)\n",
    "power(2,3)\n",
    "power()\n",
    "power(b=3,a=2)"
   ]
  },
  {
   "cell_type": "code",
   "execution_count": 29,
   "id": "fe1e5bcd-fc21-4510-abb0-dff5432bf53b",
   "metadata": {},
   "outputs": [
    {
     "name": "stdout",
     "output_type": "stream",
     "text": [
      "324000\n"
     ]
    }
   ],
   "source": [
    "def product_list(*args):\n",
    "    total=1\n",
    "    for num in args:\n",
    "        itemType = type(num)\n",
    "        if itemType == int :\n",
    "            total *=num\n",
    "        elif itemType == float :\n",
    "            total *=num\n",
    "        elif itemType == list :\n",
    "            t=product_list(num)\n",
    "            total *=t\n",
    "        else:\n",
    "            total=total\n",
    "    return total\n",
    "\n",
    "\n",
    "result = product_list(4,5,2,3,4,3,45,5)\n",
    "print (result)"
   ]
  },
  {
   "cell_type": "code",
   "execution_count": 65,
   "id": "c78519c2-2ba3-4944-9d09-1f414327cfac",
   "metadata": {},
   "outputs": [
    {
     "name": "stdout",
     "output_type": "stream",
     "text": [
      "Name         Farooq\n",
      "School         St Pauls\n",
      "HighSchool         Masroorian\n",
      "Graduation         Fast ICS\n",
      "Organization         EOCEAN\n"
     ]
    }
   ],
   "source": [
    "def portfolio(**test):\n",
    "    for key,value  in test.items():\n",
    "        print (key , \"       \" ,value)\n",
    "\n",
    "result = portfolio(Name=\"Farooq\",School=\"St Pauls\",HighSchool=\"Masroorian\",Graduation=\"Fast ICS\",Organization=\"EOCEAN\" )"
   ]
  },
  {
   "cell_type": "code",
   "execution_count": null,
   "id": "274cafb4-0c83-4593-a620-3bab830052d8",
   "metadata": {},
   "outputs": [],
   "source": []
  }
 ],
 "metadata": {
  "kernelspec": {
   "display_name": "Python 3 (ipykernel)",
   "language": "python",
   "name": "python3"
  },
  "language_info": {
   "codemirror_mode": {
    "name": "ipython",
    "version": 3
   },
   "file_extension": ".py",
   "mimetype": "text/x-python",
   "name": "python",
   "nbconvert_exporter": "python",
   "pygments_lexer": "ipython3",
   "version": "3.12.4"
  }
 },
 "nbformat": 4,
 "nbformat_minor": 5
}
