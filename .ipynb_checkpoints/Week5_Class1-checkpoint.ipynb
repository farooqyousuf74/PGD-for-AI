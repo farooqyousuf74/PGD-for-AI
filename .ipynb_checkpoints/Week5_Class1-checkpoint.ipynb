{
 "cells": [
  {
   "cell_type": "code",
   "execution_count": 11,
   "id": "0b080c50-1a53-4a2c-8dac-62cb41581760",
   "metadata": {},
   "outputs": [
    {
     "name": "stdin",
     "output_type": "stream",
     "text": [
      "Enter your user name farw\n"
     ]
    },
    {
     "name": "stdout",
     "output_type": "stream",
     "text": [
      "Not a valid email address\n"
     ]
    }
   ],
   "source": [
    "user_name = \"farooq.yousuf@gmail.com\"\n",
    "password = \"12345\"\n",
    "\n",
    "inp_user_name = input(\"Enter your user name\")\n",
    "\n",
    "\n",
    "if (\"@\" in inp_user_name):\n",
    "    inp_password = input(\"enter your password\")\n",
    "    if( inp_user_name == user_name) & (inp_password == password):\n",
    "        print (\"Welcome: You are successful login\")\n",
    "    \n",
    "    elif(inp_user_name == user_name) & (inp_password != password ):\n",
    "        print (\"Wrong password \")\n",
    "        inp_password = input(\"Enter password Again\")\n",
    "        if password == '12345':\n",
    "            print(\"Welcome to Gmail after 2nd Attempt\")\n",
    "        else:\n",
    "            print(\"Bhai app Rehny den\")\n",
    "    else:\n",
    "        print (\"You entered invalid creditionals\")\n",
    "else:\n",
    "    print (\"Not a valid email address\")"
   ]
  },
  {
   "cell_type": "code",
   "execution_count": 31,
   "id": "60edffd1-73e5-4857-bd1e-79fe5a39d96a",
   "metadata": {},
   "outputs": [
    {
     "name": "stdin",
     "output_type": "stream",
     "text": [
      "Please enter the number of units you consumed in a Month :  340\n"
     ]
    },
    {
     "name": "stdout",
     "output_type": "stream",
     "text": [
      "Electicity bill 12350.0\n"
     ]
    }
   ],
   "source": [
    "#program for calculating electricity bill in Python\n",
    "units=int(input(\"Please enter the number of units you consumed in a Month : \"))\n",
    "if(units<=150):\n",
    "    payAmount=units*15\n",
    "    fixedcharge=250.00\n",
    "elif(units<=250):\n",
    "    payAmount=units*25\n",
    "    fixedcharge=350.00\n",
    "elif(units<=350):\n",
    "    payAmount=units*35\n",
    "    fixedcharge=450.00\n",
    "else:\n",
    "    payAmount=units*45\n",
    "    fixedcharge=1000.00\n",
    "\n",
    "Total=payAmount+fixedcharge\n",
    "print(\"Electicity bill\" ,Total)"
   ]
  },
  {
   "cell_type": "code",
   "execution_count": 33,
   "id": "376e6aee-3558-4063-a038-22c27ccab0cc",
   "metadata": {},
   "outputs": [
    {
     "name": "stdin",
     "output_type": "stream",
     "text": [
      "\n",
      "1- Addition \n",
      "2- Subtraction\n",
      "3- product\n",
      "4- Division\n",
      " 2\n",
      "Enter your Number 12\n",
      "Enter your Number 124\n"
     ]
    },
    {
     "name": "stdout",
     "output_type": "stream",
     "text": [
      "Difference of 12.0 and 124.0 is: -112.0\n"
     ]
    }
   ],
   "source": [
    "number1 = float(input(\"Enter your Number\"))\n",
    "number2 = float(input(\"Enter your Number\"))\n",
    "\n",
    "option = input('''\n",
    "1- Addition \n",
    "2- Subtraction\n",
    "3- product\n",
    "4- Division\n",
    "''')\n",
    "\n",
    "if option == '1':\n",
    "    print(\"Addition of\",number1,'and',number2,'is:',number1+number2)\n",
    "elif option =='2':\n",
    "    print(\"Difference of\",number1,'and',number2,'is:',number1-number2)\n",
    "elif option =='3':\n",
    "    print(\"Product of\",number1,'and',number2,'is:',number1*number2)\n",
    "elif option =='4':\n",
    "    print(\"Division of\",number1,'and',number2,'is:',number1/number2)\n",
    "else:\n",
    "    print(\"Select valid Number\")"
   ]
  },
  {
   "cell_type": "code",
   "execution_count": 41,
   "id": "1458d7d8-32b3-460a-951b-f153b2cb07b2",
   "metadata": {},
   "outputs": [
    {
     "name": "stdout",
     "output_type": "stream",
     "text": [
      "We are learning Python 1\n",
      "We are learning Python 2\n",
      "We are learning Python 3\n",
      "We are learning Python 4\n"
     ]
    }
   ],
   "source": [
    "for i in range(1,5):\n",
    "    print(\"We are learning Python\",i)"
   ]
  },
  {
   "cell_type": "code",
   "execution_count": 39,
   "id": "5e20a580-f480-4cec-b8bd-c38adda638c4",
   "metadata": {},
   "outputs": [
    {
     "name": "stdout",
     "output_type": "stream",
     "text": [
      "We are learning Python 1\n",
      "We are learning Python 2\n",
      "We are learning Python 3\n",
      "We are learning Python 4\n"
     ]
    }
   ],
   "source": [
    "i=1\n",
    "while (i<5):\n",
    "    print(\"We are learning Python\",i)\n",
    "    i+=1"
   ]
  },
  {
   "cell_type": "code",
   "execution_count": 51,
   "id": "7f69a6b1-3f3d-4e3b-a6dc-9e976671eae9",
   "metadata": {},
   "outputs": [
    {
     "name": "stdin",
     "output_type": "stream",
     "text": [
      "Enter the table number 3.5\n"
     ]
    },
    {
     "name": "stdout",
     "output_type": "stream",
     "text": [
      "3.5 * 1 = 3.5\n",
      "3.5 * 2 = 7.0\n",
      "3.5 * 3 = 10.5\n",
      "3.5 * 4 = 14.0\n",
      "3.5 * 5 = 17.5\n",
      "3.5 * 6 = 21.0\n",
      "3.5 * 7 = 24.5\n",
      "3.5 * 8 = 28.0\n",
      "3.5 * 9 = 31.5\n",
      "3.5 * 10 = 35.0\n",
      "3.5 * 11 = 38.5\n",
      "3.5 * 12 = 42.0\n"
     ]
    }
   ],
   "source": [
    "table = float(input(\"Enter the table number\"))\n",
    "\n",
    "loop=1\n",
    "while (loop <=12):\n",
    "    print (table,\"*\",loop,\"=\",table*loop)\n",
    "    loop+=1"
   ]
  },
  {
   "cell_type": "code",
   "execution_count": 69,
   "id": "67b5e06d-92a8-4d5b-9f1a-9c99786fbd96",
   "metadata": {},
   "outputs": [
    {
     "name": "stdout",
     "output_type": "stream",
     "text": [
      "We are learning Python 1\n",
      "We are learning Python 2\n",
      "We are learning Python 3\n",
      "We are learning Python 4\n",
      "We are learning Python 5\n",
      "We are learning Python 6\n",
      "We are learning Python 8\n",
      "We are learning Python 9\n"
     ]
    }
   ],
   "source": [
    "i=1\n",
    "while (i<10):\n",
    "    if ( i != 7):\n",
    "        print(\"We are learning Python\",i)\n",
    "    i+=1"
   ]
  },
  {
   "cell_type": "code",
   "execution_count": 76,
   "id": "d2e68e1b-1f9d-48f3-9767-ca6cbc7a4f04",
   "metadata": {},
   "outputs": [
    {
     "name": "stdout",
     "output_type": "stream",
     "text": [
      "20\n",
      "30\n",
      "40\n",
      "60\n",
      "70\n",
      "80\n"
     ]
    }
   ],
   "source": [
    "num = 10\n",
    "while num <100:\n",
    "    num+=10\n",
    "    if (num == 50):\n",
    "        continue\n",
    "    if (num == 90):\n",
    "        break\n",
    "    print (num)"
   ]
  },
  {
   "cell_type": "code",
   "execution_count": null,
   "id": "c962ee62-4ab9-452e-8011-6e53c4caa86e",
   "metadata": {},
   "outputs": [],
   "source": []
  },
  {
   "cell_type": "code",
   "execution_count": null,
   "id": "50a83b5e-4e3f-439a-a4e5-cdda3b3d68b2",
   "metadata": {},
   "outputs": [],
   "source": []
  }
 ],
 "metadata": {
  "kernelspec": {
   "display_name": "Python 3 (ipykernel)",
   "language": "python",
   "name": "python3"
  },
  "language_info": {
   "codemirror_mode": {
    "name": "ipython",
    "version": 3
   },
   "file_extension": ".py",
   "mimetype": "text/x-python",
   "name": "python",
   "nbconvert_exporter": "python",
   "pygments_lexer": "ipython3",
   "version": "3.12.4"
  }
 },
 "nbformat": 4,
 "nbformat_minor": 5
}
