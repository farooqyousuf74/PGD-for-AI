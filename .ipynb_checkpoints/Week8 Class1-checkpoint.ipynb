{
 "cells": [
  {
   "cell_type": "code",
   "execution_count": 15,
   "id": "631ada52-f3bc-4c17-99cb-4e9cf8a2b880",
   "metadata": {},
   "outputs": [
    {
     "name": "stdin",
     "output_type": "stream",
     "text": [
      "enter number 1 11\n",
      "enter number 2 3\n",
      " \n",
      "    1. Addition\n",
      "    2. Subtraction\n",
      "    3. Multiplication\n",
      "    4. Dividision\n",
      "     4\n"
     ]
    },
    {
     "name": "stdout",
     "output_type": "stream",
     "text": [
      "3.67\n"
     ]
    }
   ],
   "source": [
    "def plus(num1,num2):\n",
    "    return num1+num2\n",
    "\n",
    "def minus(num1,num2):\n",
    "    return num1-num2\n",
    "\n",
    "def multi(num1,num2):\n",
    "    return num1*num2\n",
    "\n",
    "def divide(num1,num2):\n",
    "    return round(num1/num2,2)\n",
    "\n",
    "\n",
    "n1 = float(input(\"enter number 1\"))\n",
    "n2 = float(input(\"enter number 2\"))\n",
    "function=int(input(\n",
    "    ''' \n",
    "    1. Addition\n",
    "    2. Subtraction\n",
    "    3. Multiplication\n",
    "    4. Dividision\n",
    "    '''\n",
    "))\n",
    "\n",
    "if (function ==1):\n",
    "    result= plus(n1,n2)\n",
    "elif (function ==2 ):\n",
    "    result = minus(n1,n2)\n",
    "elif (function ==3 ):\n",
    "    result = multi(n1,n2)\n",
    "elif (function ==4 ):\n",
    "    result = divide(n1,n2)\n",
    "else:\n",
    "    result = \"Wrong function\"\n",
    "print (result)"
   ]
  },
  {
   "cell_type": "code",
   "execution_count": 17,
   "id": "0ce1dfd1-3989-481a-bb0f-9610f2cf3eff",
   "metadata": {},
   "outputs": [
    {
     "name": "stdout",
     "output_type": "stream",
     "text": [
      "2\n",
      "5\n"
     ]
    }
   ],
   "source": [
    "def f(y):\n",
    "    x=1\n",
    "    x+=1\n",
    "    print (x)\n",
    "\n",
    "x =5\n",
    "f(x)\n",
    "print (x)"
   ]
  },
  {
   "cell_type": "code",
   "execution_count": 19,
   "id": "209cfb85-6188-415a-9af3-aa0b8e6d5831",
   "metadata": {},
   "outputs": [
    {
     "ename": "UnboundLocalError",
     "evalue": "cannot access local variable 'x' where it is not associated with a value",
     "output_type": "error",
     "traceback": [
      "\u001b[1;31m---------------------------------------------------------------------------\u001b[0m",
      "\u001b[1;31mUnboundLocalError\u001b[0m                         Traceback (most recent call last)",
      "Cell \u001b[1;32mIn[19], line 4\u001b[0m\n\u001b[0;32m      2\u001b[0m     x \u001b[38;5;241m+\u001b[39m\u001b[38;5;241m=\u001b[39m \u001b[38;5;241m1\u001b[39m\n\u001b[0;32m      3\u001b[0m x \u001b[38;5;241m=\u001b[39m\u001b[38;5;241m5\u001b[39m\n\u001b[1;32m----> 4\u001b[0m h(x)\n\u001b[0;32m      5\u001b[0m \u001b[38;5;28mprint\u001b[39m (x)\n",
      "Cell \u001b[1;32mIn[19], line 2\u001b[0m, in \u001b[0;36mh\u001b[1;34m(y)\u001b[0m\n\u001b[0;32m      1\u001b[0m \u001b[38;5;28;01mdef\u001b[39;00m \u001b[38;5;21mh\u001b[39m(y):\n\u001b[1;32m----> 2\u001b[0m     x \u001b[38;5;241m+\u001b[39m\u001b[38;5;241m=\u001b[39m \u001b[38;5;241m1\u001b[39m\n",
      "\u001b[1;31mUnboundLocalError\u001b[0m: cannot access local variable 'x' where it is not associated with a value"
     ]
    }
   ],
   "source": [
    "def h(y):\n",
    "    x += 1\n",
    "x =5\n",
    "h(x)\n",
    "print (x)"
   ]
  },
  {
   "cell_type": "code",
   "execution_count": 25,
   "id": "f8f76872-29ba-4219-8465-6f5229be9023",
   "metadata": {},
   "outputs": [
    {
     "name": "stdout",
     "output_type": "stream",
     "text": [
      "2 5\n",
      "32\n"
     ]
    }
   ],
   "source": [
    "def p1(x):\n",
    "    def p2(y):\n",
    "        print (x,y)\n",
    "        return x ** y \n",
    "    return p2\n",
    "result= p1(2)\n",
    "print(result(5))\n"
   ]
  },
  {
   "cell_type": "code",
   "execution_count": 35,
   "id": "94ed73e3-4621-4b49-a67a-611cee63cb7d",
   "metadata": {},
   "outputs": [
    {
     "name": "stdout",
     "output_type": "stream",
     "text": [
      "2 5\n",
      "2 3\n",
      "2 5 3\n",
      "2 3 5\n",
      "30 30\n"
     ]
    }
   ],
   "source": [
    "def p1(x):\n",
    "    def p2(y):\n",
    "        def p3 (z):\n",
    "            print(x,y,z)\n",
    "            return( x * y * z)\n",
    "        print (x,y)\n",
    "        return p3\n",
    "    return p2\n",
    "r1= p1(2)\n",
    "r21=r1(5)\n",
    "r22=r1(3)\n",
    "r31 = r21(3)\n",
    "r32= r22(5)\n",
    "print (r31,r32)"
   ]
  },
  {
   "cell_type": "code",
   "execution_count": 49,
   "id": "77db11ce-9382-48ff-91cc-91e36969c651",
   "metadata": {},
   "outputs": [
    {
     "name": "stdout",
     "output_type": "stream",
     "text": [
      "Muhammad Nehal Iqbal\n",
      "Farooq Yousuf Sr\n"
     ]
    }
   ],
   "source": [
    "def name1(n1):\n",
    "    def name2(n2):\n",
    "        def name3(n3):\n",
    "            return n1+\" \"+n2+\" \"+n3\n",
    "        return name3\n",
    "    return name2\n",
    "r1=name1(\"Muhammad\")\n",
    "r2=r1(\"Nehal\")\n",
    "r3=r2(\"Iqbal\")\n",
    "print (r3)\n",
    "ret=name1(\"Farooq\")(\"Yousuf\")(\"Sr\")\n",
    "print (ret)"
   ]
  },
  {
   "cell_type": "code",
   "execution_count": null,
   "id": "e0ce154d-82a0-458f-b491-5708cb0c2424",
   "metadata": {},
   "outputs": [],
   "source": []
  }
 ],
 "metadata": {
  "kernelspec": {
   "display_name": "Python 3 (ipykernel)",
   "language": "python",
   "name": "python3"
  },
  "language_info": {
   "codemirror_mode": {
    "name": "ipython",
    "version": 3
   },
   "file_extension": ".py",
   "mimetype": "text/x-python",
   "name": "python",
   "nbconvert_exporter": "python",
   "pygments_lexer": "ipython3",
   "version": "3.12.4"
  }
 },
 "nbformat": 4,
 "nbformat_minor": 5
}
