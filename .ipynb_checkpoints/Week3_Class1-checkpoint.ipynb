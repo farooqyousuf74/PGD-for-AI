{
 "cells": [
  {
   "cell_type": "code",
   "execution_count": 25,
   "id": "ca789285-c05f-4eab-b208-0ad3fa3ac458",
   "metadata": {},
   "outputs": [
    {
     "name": "stdout",
     "output_type": "stream",
     "text": [
      "['Banana', 'Apple', 'Mango', 'Papya']\n",
      "['Banana', 'Apple', 'Mango', 'Papya', ['Grapes', 'Cherry', 'Strawberry']]\n",
      "[['Avacado', 'Pear'], 'Banana', 'Apple', 'Mango', 'Papya', ['Grapes', 'Cherry', 'Strawberry']]\n",
      "[['Avacado', 'Pear'], 'Banana', 'Apple', 'Mango', 'Papya', ['Grapes', 'Cherry', 'Strawberry']]\n"
     ]
    }
   ],
   "source": [
    "My_Favourite_Fruit = [\"Banana\",\"Apple\",\"Mango\", \"Papya\"]\n",
    "My_Liked_Fruit = [\"Grapes\",\"Cherry\",\"Strawberry\"]\n",
    "My_Not_Liked_Fruit = [\"Avacado\", \"Pear\"]\n",
    "print (My_Favourite_Fruit)\n",
    "My_Favourite_Fruit.append(My_Liked_Fruit)\n",
    "print (My_Favourite_Fruit)\n",
    "My_Favourite_Fruit.insert(0,My_Not_Liked_Fruit)\n",
    "print (My_Favourite_Fruit)\n",
    "\n",
    "\n",
    "My_Favourite_Fruit[5][1:3]\n",
    "len(My_Favourite_Fruit)\n",
    "My_Favourite_Fruit.count(\"Apple\")\n",
    "##//My_Favourite_Fruit[5].pop(1)\n",
    "#My_Favourite_Fruit[5].remove(\"Cherry\")\n",
    "\n",
    "\n",
    "print (My_Favourite_Fruit)\n"
   ]
  },
  {
   "cell_type": "code",
   "execution_count": 29,
   "id": "84103c85-8636-4f14-87ca-577ef0d21cce",
   "metadata": {},
   "outputs": [
    {
     "name": "stdout",
     "output_type": "stream",
     "text": [
      "<class 'tuple'>\n",
      "(1, 2, 3, 4, 5, 7, 9)\n",
      "(1, 2, 3, 4, 5, 7, 9, 22, 22, 34, 23, 11, 14)\n",
      "[['Avacado', 'Pear'], 'Banana', 'Apple', 'Mango', 'Papya', ['Grapes', 'Cherry', 'Strawberry'], (1, 2, 3, 4, 5, 7, 9, 22, 22, 34, 23, 11, 14)]\n",
      "[['Avacado', 'Pear'], 'Banana', 'Apple', 'Mango', 'Papya', ['Grapes', 'Cherry', 'Strawberry'], (1, 2, 3, 4, 5, 7, 9, 22, 22, 34, 23, 11, 14), (1, 2, 3, 4, 5, 7, 9, 22, 22, 34, 23, 11, 14)]\n"
     ]
    },
    {
     "data": {
      "text/plain": [
       "[1, 2, 3, 4, 5, 7, 9, 11, 14, 22, 22, 23, 34]"
      ]
     },
     "execution_count": 29,
     "metadata": {},
     "output_type": "execute_result"
    }
   ],
   "source": [
    "list_tulip = (1,2,3,4,5,7,9)\n",
    "print(type(list_tulip))\n",
    "print (list_tulip)\n",
    "list_tulip.count(1)\n",
    "\n",
    "list2= (22,22,34,23,11,14)\n",
    "list_tulip = list_tulip + list2\n",
    "\n",
    "\n",
    "print (list_tulip)\n",
    "print (My_Favourite_Fruit)\n",
    "My_Favourite_Fruit.append(list_tulip)\n",
    "print(My_Favourite_Fruit)\n",
    "sorted(list_tulip)\n"
   ]
  },
  {
   "cell_type": "code",
   "execution_count": 33,
   "id": "bd5a0d64-dab2-4951-9889-64aa028773f0",
   "metadata": {},
   "outputs": [
    {
     "name": "stdout",
     "output_type": "stream",
     "text": [
      "<class 'int'>\n",
      "1 2 3\n"
     ]
    }
   ],
   "source": [
    "num1,num2,num3 = (1,2,3)\n",
    "print (type(num1))\n",
    "print (num1,num2,num3)"
   ]
  },
  {
   "cell_type": "code",
   "execution_count": null,
   "id": "b8f4a31b-e6f4-47a7-96b2-36d80bf908b7",
   "metadata": {},
   "outputs": [],
   "source": []
  }
 ],
 "metadata": {
  "kernelspec": {
   "display_name": "Python 3 (ipykernel)",
   "language": "python",
   "name": "python3"
  },
  "language_info": {
   "codemirror_mode": {
    "name": "ipython",
    "version": 3
   },
   "file_extension": ".py",
   "mimetype": "text/x-python",
   "name": "python",
   "nbconvert_exporter": "python",
   "pygments_lexer": "ipython3",
   "version": "3.12.4"
  }
 },
 "nbformat": 4,
 "nbformat_minor": 5
}
