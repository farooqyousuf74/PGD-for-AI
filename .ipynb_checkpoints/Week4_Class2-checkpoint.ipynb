{
 "cells": [
  {
   "cell_type": "code",
   "execution_count": 3,
   "id": "fe21b1b4-dd27-4ae4-a30b-6a89b78af409",
   "metadata": {},
   "outputs": [
    {
     "name": "stdin",
     "output_type": "stream",
     "text": [
      "Enter your name Farooq Y\n"
     ]
    },
    {
     "name": "stdout",
     "output_type": "stream",
     "text": [
      "8\n",
      "Good\n"
     ]
    }
   ],
   "source": [
    "name=input(\"Enter your name\")\n",
    "length = len(name)\n",
    "print (length)\n",
    "if (length > 10):\n",
    "    print (\"too big\")\n",
    "elif (length == 8):\n",
    "    print (\"Good\")\n",
    "else:\n",
    "    print (\"too low\")\n"
   ]
  },
  {
   "cell_type": "code",
   "execution_count": 25,
   "id": "c3e73264-c7d6-449a-aef3-d3bd56ce17ea",
   "metadata": {},
   "outputs": [
    {
     "name": "stdin",
     "output_type": "stream",
     "text": [
      "Enter first number 1\n",
      "Enter second numeber 2\n",
      "Enter thrid number 3\n"
     ]
    },
    {
     "name": "stdout",
     "output_type": "stream",
     "text": [
      "Third number is bigger than others  3\n"
     ]
    }
   ],
   "source": [
    "num1=input(\"Enter first number\")\n",
    "num2= input(\"Enter second numeber\")\n",
    "num3 = input(\"Enter thrid number\")\n",
    "\n",
    "if ( (num1 > num2) and (num1 > num3) ) :\n",
    "    print (\"First number is bigger than others \",num1)\n",
    "elif ( (num2 > num3) ) :\n",
    "    print (\"Second number is bigger than others \",num2)\n",
    "else:\n",
    "    print (\"Third number is bigger than others \",num3)\n",
    "\n",
    "\n"
   ]
  },
  {
   "cell_type": "code",
   "execution_count": 51,
   "id": "56badb7f-e1cc-4949-998c-6413cc66e349",
   "metadata": {},
   "outputs": [
    {
     "name": "stdin",
     "output_type": "stream",
     "text": [
      "Enter first number -234.23\n"
     ]
    },
    {
     "name": "stdout",
     "output_type": "stream",
     "text": [
      "-234.23\n",
      "Number is negative\n"
     ]
    }
   ],
   "source": [
    "num1=(input(\"Enter first number\"))\n",
    "\n",
    "if (num1.replace(\".\",\"\").replace(\"-\",\"\").replace(\"+\",\"\").isdigit() ):\n",
    "    num1=float(num1)\n",
    "    print (num1)\n",
    "    if(num1>0):\n",
    "        print (\"Number is positive\" )\n",
    "    elif (num1 == 0):\n",
    "        print (\"Number is zero\")\n",
    "    else:\n",
    "        print (\"Number is negative\")\n",
    "else:\n",
    "    print (\"Wrong input type\")"
   ]
  },
  {
   "cell_type": "code",
   "execution_count": 63,
   "id": "3ea5870b-92c8-442f-a225-74c3f38f44ff",
   "metadata": {},
   "outputs": [
    {
     "name": "stdin",
     "output_type": "stream",
     "text": [
      "Enter your user name farooq.yousuf@gmail.com\n",
      "enter your password 12\n"
     ]
    },
    {
     "name": "stdout",
     "output_type": "stream",
     "text": [
      "Wrong password \n"
     ]
    },
    {
     "name": "stdin",
     "output_type": "stream",
     "text": [
      "Enter password Again 12345\n"
     ]
    },
    {
     "name": "stdout",
     "output_type": "stream",
     "text": [
      "Welcome to Gmail after 2nd Attempt\n"
     ]
    }
   ],
   "source": [
    "user_name = \"farooq.yousuf@gmail.com\"\n",
    "password = \"12345\"\n",
    "\n",
    "inp_user_name = input(\"Enter your user name\")\n",
    "inp_password = input(\"enter your password\")\n",
    "\n",
    "if( inp_user_name == user_name) & (inp_password == password):\n",
    "    print (\"Welcome: You are successful login\")\n",
    "elif(inp_user_name == user_name) & (inp_password != password ):\n",
    "    print (\"Wrong password \")\n",
    "    inp_password = input(\"Enter password Again\")\n",
    "    if password == '12345':\n",
    "        print(\"Welcome to Gmail after 2nd Attempt\")\n",
    "    else:\n",
    "        print(\"Bhai app Rehny den\")\n",
    "else:\n",
    "    print (\"You entered invalid creditionals\")\n",
    "    "
   ]
  },
  {
   "cell_type": "code",
   "execution_count": null,
   "id": "72625ca8-ad1b-4617-bf70-c4225df7186c",
   "metadata": {},
   "outputs": [],
   "source": []
  }
 ],
 "metadata": {
  "kernelspec": {
   "display_name": "Python 3 (ipykernel)",
   "language": "python",
   "name": "python3"
  },
  "language_info": {
   "codemirror_mode": {
    "name": "ipython",
    "version": 3
   },
   "file_extension": ".py",
   "mimetype": "text/x-python",
   "name": "python",
   "nbconvert_exporter": "python",
   "pygments_lexer": "ipython3",
   "version": "3.12.4"
  }
 },
 "nbformat": 4,
 "nbformat_minor": 5
}
