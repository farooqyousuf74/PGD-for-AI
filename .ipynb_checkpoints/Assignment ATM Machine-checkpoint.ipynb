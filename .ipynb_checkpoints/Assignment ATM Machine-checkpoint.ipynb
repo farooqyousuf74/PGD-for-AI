{
 "cells": [
  {
   "cell_type": "code",
   "execution_count": 9,
   "id": "057c033c-59b2-4792-931a-11c3a4436f84",
   "metadata": {},
   "outputs": [
    {
     "name": "stdin",
     "output_type": "stream",
     "text": [
      "\n",
      "1. Display current balance\n",
      "2. Deposit money\n",
      "3. Withdrawn money\n",
      "4. Exit the ATM\n",
      " 1\n"
     ]
    },
    {
     "name": "stdout",
     "output_type": "stream",
     "text": [
      "Your account balance is PKR  5000\n"
     ]
    },
    {
     "name": "stdin",
     "output_type": "stream",
     "text": [
      "\n",
      "1. Display current balance\n",
      "2. Deposit money\n",
      "3. Withdrawn money\n",
      "4. Exit the ATM\n",
      " 2\n",
      "Enter the amount to Deposit -4\n"
     ]
    },
    {
     "name": "stdout",
     "output_type": "stream",
     "text": [
      "You entered the invalid Amount\n"
     ]
    },
    {
     "name": "stdin",
     "output_type": "stream",
     "text": [
      "\n",
      "1. Display current balance\n",
      "2. Deposit money\n",
      "3. Withdrawn money\n",
      "4. Exit the ATM\n",
      " 2\n",
      "Enter the amount to Deposit 4\n",
      "\n",
      "1. Display current balance\n",
      "2. Deposit money\n",
      "3. Withdrawn money\n",
      "4. Exit the ATM\n",
      " 1\n"
     ]
    },
    {
     "name": "stdout",
     "output_type": "stream",
     "text": [
      "Your account balance is PKR  5004\n"
     ]
    },
    {
     "name": "stdin",
     "output_type": "stream",
     "text": [
      "\n",
      "1. Display current balance\n",
      "2. Deposit money\n",
      "3. Withdrawn money\n",
      "4. Exit the ATM\n",
      " 4\n"
     ]
    }
   ],
   "source": [
    "MainInput = '''\n",
    "1. Display current balance\n",
    "2. Deposit money\n",
    "3. Withdrawn money\n",
    "4. Exit the ATM\n",
    "'''\n",
    "\n",
    "DefaultATMBalance= 1000\n",
    "\n",
    "DefaultAccountBalance = 5000\n",
    "\n",
    "CurrentATMBalance = DefaultATMBalance\n",
    "CurrentAccountBalance = DefaultAccountBalance\n",
    "while (1):\n",
    "    UserInput = int(input(MainInput))\n",
    "    if (UserInput == 1):\n",
    "        print (\"Your account balance is PKR \",CurrentAccountBalance)\n",
    "    elif(UserInput == 2):\n",
    "        DepositAmount = int(input(\"Enter the amount to Deposit\"))\n",
    "        if(DepositAmount > 0 ):\n",
    "            CurrentAccountBalance += DepositAmount\n",
    "            CurrentATMBalance += DepositAmount\n",
    "        else:\n",
    "            print(\"You entered the invalid Amount\")\n",
    "            continue\n",
    "    elif(UserInput == 3):\n",
    "        WithdrawalAmount = int(input(\"Enter the amount for withdrawal\"))\n",
    "        if (WithdrawalAmount >0):\n",
    "            CurrentAccountBalance -= WithdrawalAmount\n",
    "            CurrentATMBalance -= withdrawalAmount\n",
    "        else:\n",
    "            print(\"You entered the invalid amount\")\n",
    "            continue\n",
    "    elif(UserInput == 4):\n",
    "        break\n",
    "    else:\n",
    "        print (\"You entered the wrong input\")\n",
    "        \n",
    "        \n",
    "\n",
    "\n"
   ]
  },
  {
   "cell_type": "code",
   "execution_count": null,
   "id": "407eac41-a8c6-45e4-9fa3-7c8f194c6994",
   "metadata": {},
   "outputs": [],
   "source": []
  }
 ],
 "metadata": {
  "kernelspec": {
   "display_name": "Python 3 (ipykernel)",
   "language": "python",
   "name": "python3"
  },
  "language_info": {
   "codemirror_mode": {
    "name": "ipython",
    "version": 3
   },
   "file_extension": ".py",
   "mimetype": "text/x-python",
   "name": "python",
   "nbconvert_exporter": "python",
   "pygments_lexer": "ipython3",
   "version": "3.12.4"
  }
 },
 "nbformat": 4,
 "nbformat_minor": 5
}
