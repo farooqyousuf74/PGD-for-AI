{
 "cells": [
  {
   "cell_type": "markdown",
   "id": "0f9093ea-264b-45cc-8d09-209fe4d1aac7",
   "metadata": {},
   "source": [
    "# Assignment\n"
   ]
  },
  {
   "cell_type": "markdown",
   "id": "1eabef8e-7e25-40fe-a512-87f8624cc313",
   "metadata": {},
   "source": [
    "## List"
   ]
  },
  {
   "cell_type": "markdown",
   "id": "bbedc877-521b-4938-a246-75dbd249f774",
   "metadata": {},
   "source": [
    "### Question 1: "
   ]
  },
  {
   "cell_type": "code",
   "execution_count": 4,
   "id": "2cff6c4f-5829-4c5e-ad88-692e5f5db119",
   "metadata": {},
   "outputs": [
    {
     "name": "stdout",
     "output_type": "stream",
     "text": [
      "<class 'list'>\n"
     ]
    }
   ],
   "source": [
    "lst = []   # Empty List\n",
    "print (type(lst))"
   ]
  },
  {
   "cell_type": "markdown",
   "id": "b6165686-1caf-4dfa-a4c0-0e38859ea6eb",
   "metadata": {},
   "source": [
    "### Question 2"
   ]
  },
  {
   "cell_type": "code",
   "execution_count": 6,
   "id": "08b4e510-e4f4-443f-b3f0-bfd5dfacbd7f",
   "metadata": {},
   "outputs": [
    {
     "data": {
      "text/plain": [
       "5"
      ]
     },
     "execution_count": 6,
     "metadata": {},
     "output_type": "execute_result"
    }
   ],
   "source": [
    "lst = [1, 2, 3, 4, 5]  # Five element of the list\n",
    "len(lst)"
   ]
  },
  {
   "cell_type": "markdown",
   "id": "4977662c-6898-4f75-a35c-4135b5897712",
   "metadata": {},
   "source": [
    "### Question 3"
   ]
  },
  {
   "cell_type": "code",
   "execution_count": 8,
   "id": "12ea0c3d-8874-4070-8607-f1d6481ae87d",
   "metadata": {},
   "outputs": [
    {
     "name": "stdout",
     "output_type": "stream",
     "text": [
      "<class 'list'>\n"
     ]
    }
   ],
   "source": [
    "lst = [1, 2, 3, 4, 5]\n",
    "print (type(lst)) # length of the list\n"
   ]
  },
  {
   "cell_type": "markdown",
   "id": "746f5ab0-09b1-4c53-bd5d-94787dc18a61",
   "metadata": {},
   "source": [
    "### Question 4"
   ]
  },
  {
   "cell_type": "code",
   "execution_count": 10,
   "id": "2f69a8d6-e780-4fd2-9546-59b0e74430a9",
   "metadata": {},
   "outputs": [
    {
     "name": "stdout",
     "output_type": "stream",
     "text": [
      "1\n",
      "5\n",
      "3\n"
     ]
    }
   ],
   "source": [
    "lst = [1, 2, 3, 4, 5]\n",
    "print (lst[0]) # First Item\n",
    "print (lst[-1]) # Last Item\n",
    "mid=int(len(lst) /2 )\n",
    "print (lst[mid]) # Middle Item"
   ]
  },
  {
   "cell_type": "markdown",
   "id": "76c9bb27-f12f-49d1-8f57-ac1c321d70f1",
   "metadata": {},
   "source": [
    "### Question 5\n"
   ]
  },
  {
   "cell_type": "code",
   "execution_count": 12,
   "id": "f943dff6-e905-455d-bc37-e54a9d99267b",
   "metadata": {},
   "outputs": [
    {
     "name": "stdout",
     "output_type": "stream",
     "text": [
      "('Farooq', 50, 5.1, 'Married', 'Gulstan-e-Jauhar, Blk 19, Karachi')\n"
     ]
    }
   ],
   "source": [
    "lst = (\"Farooq\", 50, 5.10, \"Married\", \"Gulstan-e-Jauhar, Blk 19, Karachi\")\n",
    "print (lst)"
   ]
  },
  {
   "cell_type": "markdown",
   "id": "dfb9836f-2cac-4d72-a3e1-05e806bf3ba1",
   "metadata": {},
   "source": [
    "### Question 6\n"
   ]
  },
  {
   "cell_type": "code",
   "execution_count": 14,
   "id": "58e2da4d-c719-4d7e-bc5c-c686e4d9bb83",
   "metadata": {},
   "outputs": [
    {
     "name": "stdout",
     "output_type": "stream",
     "text": [
      "['Facebook', 'Google', 'Microsoft', 'Apple', 'IBM', 'Oracle', 'Amazon']\n",
      "7\n"
     ]
    }
   ],
   "source": [
    "IT_Companies = [\"Facebook\", \"Google\",\"Microsoft\", \"Apple\", \"IBM\", \"Oracle\" ,\"Amazon\"]\n",
    "print(IT_Companies)\n",
    "length=len(IT_Companies)\n",
    "print (length)"
   ]
  },
  {
   "cell_type": "markdown",
   "id": "05870dab-0ab0-4331-a07a-ef00449655dc",
   "metadata": {},
   "source": [
    "### Question 7\n"
   ]
  },
  {
   "cell_type": "code",
   "execution_count": 16,
   "id": "53e33d40-d3d7-4a35-b33a-cd32baa3348e",
   "metadata": {},
   "outputs": [
    {
     "name": "stdout",
     "output_type": "stream",
     "text": [
      "Facebook\n",
      "Amazon\n",
      "Apple\n"
     ]
    }
   ],
   "source": [
    "print (IT_Companies[0]) # First Item\n",
    "print (IT_Companies[-1]) # Last Item\n",
    "mid=int(len(IT_Companies) /2 )\n",
    "print (IT_Companies[mid]) # Middle Item"
   ]
  },
  {
   "cell_type": "markdown",
   "id": "c876a19d-5ca8-4cbd-b8fe-da069263dfc7",
   "metadata": {},
   "source": [
    "### Question 8 "
   ]
  },
  {
   "cell_type": "code",
   "execution_count": 18,
   "id": "932f9fb5-822a-4aec-a62b-7c2ce092e25b",
   "metadata": {},
   "outputs": [
    {
     "name": "stdout",
     "output_type": "stream",
     "text": [
      "['Facebook', 'Google', 'Microsoft', 'EOCEAN', 'IBM', 'Oracle', 'Amazon']\n"
     ]
    }
   ],
   "source": [
    "IT_Companies[3] = \"EOCEAN\"\n",
    "print (IT_Companies)"
   ]
  },
  {
   "cell_type": "markdown",
   "id": "351ff33e-aa25-4645-91db-a1fdca6630ce",
   "metadata": {},
   "source": [
    "### Question 9\n"
   ]
  },
  {
   "cell_type": "code",
   "execution_count": 20,
   "id": "df1be191-5292-4cbc-ab98-a9ea1f1b2d49",
   "metadata": {},
   "outputs": [
    {
     "name": "stdout",
     "output_type": "stream",
     "text": [
      "['Facebook', 'Google', 'Microsoft', 'EOCEAN', 'IBM', 'Oracle', 'Amazon', 'Space Organization']\n"
     ]
    }
   ],
   "source": [
    "IT_Companies.append(\"Space Organization\")\n",
    "print(IT_Companies)"
   ]
  },
  {
   "cell_type": "markdown",
   "id": "14b20ac4-976f-4e66-858a-c83952d2695a",
   "metadata": {},
   "source": [
    "### Question 10"
   ]
  },
  {
   "cell_type": "code",
   "execution_count": 22,
   "id": "ddacebc2-b8ad-4155-8a45-0e091a03b5b0",
   "metadata": {},
   "outputs": [
    {
     "name": "stdout",
     "output_type": "stream",
     "text": [
      "['Facebook', 'Google', 'Microsoft', 'EOCEAN', 'New Organization', 'IBM', 'Oracle', 'Amazon', 'Space Organization']\n"
     ]
    }
   ],
   "source": [
    "mid=int(len(IT_Companies) /2 )\n",
    "IT_Companies.insert(mid,\"New Organization\")\n",
    "print(IT_Companies)\n"
   ]
  },
  {
   "cell_type": "markdown",
   "id": "1587424c-610f-4dc1-a715-8f866ad87802",
   "metadata": {},
   "source": [
    "### Question 11\n"
   ]
  },
  {
   "cell_type": "code",
   "execution_count": 24,
   "id": "6f5d7a77-9f63-491a-aeb2-f42957d316f3",
   "metadata": {},
   "outputs": [
    {
     "name": "stdout",
     "output_type": "stream",
     "text": [
      "['Facebook', 'Google', 'Microsoft', 'EOCEAN', 'New Organization', 'IBM', 'Oracle', 'Amazon', 'Space Organization']\n",
      "['Facebook', 'Google', 'MICROSOFT', 'EOCEAN', 'New Organization', 'IBM', 'Oracle', 'Amazon', 'Space Organization']\n"
     ]
    }
   ],
   "source": [
    "print (IT_Companies)\n",
    "IT_Companies[2] = IT_Companies[2].upper()\n",
    "print (IT_Companies)"
   ]
  },
  {
   "cell_type": "markdown",
   "id": "a7b42b14-f0b7-473b-8210-03a669201ae0",
   "metadata": {},
   "source": [
    "### Question 12\n"
   ]
  },
  {
   "cell_type": "code",
   "execution_count": 26,
   "id": "e2d18b01-ec06-40f9-b0f0-097d37eced15",
   "metadata": {},
   "outputs": [
    {
     "name": "stdout",
     "output_type": "stream",
     "text": [
      "['Facebook', 'Google', 'MICROSOFT', 'EOCEAN', 'New Organization', 'IBM', 'Oracle', 'Amazon', 'Space Organization']\n",
      "['Amazon', 'EOCEAN', 'Facebook', 'Google', 'IBM', 'MICROSOFT', 'New Organization', 'Oracle', 'Space Organization']\n"
     ]
    }
   ],
   "source": [
    "print(IT_Companies)\n",
    "IT_Companies.sort()\n",
    "print(IT_Companies)"
   ]
  },
  {
   "cell_type": "markdown",
   "id": "264be6a5-9e46-4903-892f-018dbcd85280",
   "metadata": {},
   "source": [
    "### Question 13"
   ]
  },
  {
   "cell_type": "code",
   "execution_count": 28,
   "id": "ef9bd13b-e2e2-4ddb-92b0-c555c4e995b3",
   "metadata": {},
   "outputs": [
    {
     "name": "stdout",
     "output_type": "stream",
     "text": [
      "['Amazon', 'EOCEAN', 'Facebook', 'Google', 'IBM', 'MICROSOFT', 'New Organization', 'Oracle', 'Space Organization']\n",
      "['Space Organization', 'Oracle', 'New Organization', 'MICROSOFT', 'IBM', 'Google', 'Facebook', 'EOCEAN', 'Amazon']\n"
     ]
    }
   ],
   "source": [
    "print(IT_Companies)\n",
    "IT_Companies.reverse()\n",
    "print(IT_Companies)"
   ]
  },
  {
   "cell_type": "markdown",
   "id": "9ca984bb-13aa-4dba-a06b-33250d652454",
   "metadata": {},
   "source": [
    "### Question 14"
   ]
  },
  {
   "cell_type": "code",
   "execution_count": 30,
   "id": "48b4cb97-280b-4eca-ad74-4158cc13d191",
   "metadata": {},
   "outputs": [
    {
     "name": "stdout",
     "output_type": "stream",
     "text": [
      "['Space Organization', 'Oracle', 'New Organization', 'MICROSOFT', 'IBM', 'Google', 'Facebook', 'EOCEAN', 'Amazon']\n",
      "['Space Organization', 'Oracle', 'New Organization']\n"
     ]
    }
   ],
   "source": [
    "print(IT_Companies)\n",
    "new=IT_Companies[0:3]\n",
    "print(new)"
   ]
  },
  {
   "cell_type": "markdown",
   "id": "0b1faff2-bdc2-49a6-a77f-6303eaa717ee",
   "metadata": {},
   "source": [
    "### Question 15"
   ]
  },
  {
   "cell_type": "code",
   "execution_count": 32,
   "id": "7e418e7d-542e-4a2f-94d9-d91cc7817db8",
   "metadata": {},
   "outputs": [
    {
     "name": "stdout",
     "output_type": "stream",
     "text": [
      "['Space Organization', 'Oracle', 'New Organization', 'MICROSOFT', 'IBM', 'Google', 'Facebook', 'EOCEAN', 'Amazon']\n",
      "['Google', 'Facebook', 'EOCEAN']\n"
     ]
    }
   ],
   "source": [
    "print(IT_Companies)\n",
    "new=IT_Companies[-4:-1]\n",
    "print(new)"
   ]
  },
  {
   "cell_type": "markdown",
   "id": "bcd3b723-00db-45c6-b59b-fcfce5a4a102",
   "metadata": {},
   "source": [
    "### Question 16"
   ]
  },
  {
   "cell_type": "code",
   "execution_count": 34,
   "id": "f1738976-8fe6-438e-a108-9c684b6a7bd0",
   "metadata": {},
   "outputs": [
    {
     "name": "stdout",
     "output_type": "stream",
     "text": [
      "['Space Organization', 'Oracle', 'New Organization', 'MICROSOFT', 'IBM', 'Google', 'Facebook', 'EOCEAN', 'Amazon']\n",
      "IBM\n"
     ]
    }
   ],
   "source": [
    "print(IT_Companies)\n",
    "mid=int(len(IT_Companies) /2 )\n",
    "new=IT_Companies[mid]\n",
    "print(new)"
   ]
  },
  {
   "cell_type": "markdown",
   "id": "7c29b475-e5d8-4d07-81f2-bf6da239242e",
   "metadata": {},
   "source": [
    "### Question 17"
   ]
  },
  {
   "cell_type": "code",
   "execution_count": 36,
   "id": "1cab32c1-4ded-438c-9651-298858aae1b9",
   "metadata": {},
   "outputs": [
    {
     "name": "stdout",
     "output_type": "stream",
     "text": [
      "['Space Organization', 'Oracle', 'New Organization', 'MICROSOFT', 'IBM', 'Google', 'Facebook', 'EOCEAN', 'Amazon']\n",
      "['Oracle', 'New Organization', 'MICROSOFT', 'IBM', 'Google', 'Facebook', 'EOCEAN', 'Amazon']\n",
      "Space Organization\n"
     ]
    }
   ],
   "source": [
    "print(IT_Companies)\n",
    "new=IT_Companies.pop(0)\n",
    "print(IT_Companies)\n",
    "print(new) "
   ]
  },
  {
   "cell_type": "markdown",
   "id": "ecf55ac3-7b43-41e9-add0-a3c1f296eda8",
   "metadata": {},
   "source": [
    "### Question 18"
   ]
  },
  {
   "cell_type": "code",
   "execution_count": 38,
   "id": "e8b153fb-d38e-4ad9-a4f4-f9f992bef929",
   "metadata": {},
   "outputs": [
    {
     "name": "stdout",
     "output_type": "stream",
     "text": [
      "['Oracle', 'New Organization', 'MICROSOFT', 'IBM', 'Google', 'Facebook', 'EOCEAN', 'Amazon']\n",
      "['Oracle', 'New Organization', 'MICROSOFT', 'IBM', 'Facebook', 'EOCEAN', 'Amazon']\n",
      "Google\n"
     ]
    }
   ],
   "source": [
    "print(IT_Companies)\n",
    "mid=int(len(IT_Companies) /2 )\n",
    "new=IT_Companies.pop(mid)\n",
    "print(IT_Companies)\n",
    "print(new)"
   ]
  },
  {
   "cell_type": "markdown",
   "id": "a9365b6c-ba7f-4ca2-8f60-52743572fb32",
   "metadata": {},
   "source": [
    "### Question 19"
   ]
  },
  {
   "cell_type": "code",
   "execution_count": 40,
   "id": "a07eccf6-4b13-4612-91f7-a76457a7cfb2",
   "metadata": {},
   "outputs": [
    {
     "name": "stdout",
     "output_type": "stream",
     "text": [
      "['Oracle', 'New Organization', 'MICROSOFT', 'IBM', 'Facebook', 'EOCEAN', 'Amazon']\n",
      "['Oracle', 'New Organization', 'MICROSOFT', 'IBM', 'Facebook', 'EOCEAN']\n",
      "Amazon\n"
     ]
    }
   ],
   "source": [
    "print(IT_Companies)\n",
    "new= IT_Companies.pop()\n",
    "print(IT_Companies)\n",
    "print (new)"
   ]
  },
  {
   "cell_type": "markdown",
   "id": "f31e6315-cc8c-42cb-8be1-c96808b4255d",
   "metadata": {},
   "source": [
    "### Question 20"
   ]
  },
  {
   "cell_type": "code",
   "execution_count": 42,
   "id": "74b220f3-273f-42f5-bd46-603f085ce671",
   "metadata": {},
   "outputs": [
    {
     "name": "stdout",
     "output_type": "stream",
     "text": [
      "['Oracle', 'New Organization', 'MICROSOFT', 'IBM', 'Facebook', 'EOCEAN']\n",
      "[]\n"
     ]
    }
   ],
   "source": [
    "print(IT_Companies)\n",
    "IT_Companies.clear()\n",
    "print(IT_Companies)"
   ]
  },
  {
   "cell_type": "markdown",
   "id": "1e84ba8e-c289-4de0-a4a6-24d718d39924",
   "metadata": {},
   "source": [
    "### Question 21"
   ]
  },
  {
   "cell_type": "code",
   "execution_count": 44,
   "id": "58c5bcfa-6504-4180-8377-af1d38328b16",
   "metadata": {},
   "outputs": [
    {
     "name": "stdout",
     "output_type": "stream",
     "text": [
      "[]\n"
     ]
    },
    {
     "ename": "NameError",
     "evalue": "name 'IT_Companies' is not defined",
     "output_type": "error",
     "traceback": [
      "\u001b[1;31m---------------------------------------------------------------------------\u001b[0m",
      "\u001b[1;31mNameError\u001b[0m                                 Traceback (most recent call last)",
      "Cell \u001b[1;32mIn[44], line 3\u001b[0m\n\u001b[0;32m      1\u001b[0m \u001b[38;5;28mprint\u001b[39m(IT_Companies)\n\u001b[0;32m      2\u001b[0m \u001b[38;5;28;01mdel\u001b[39;00m IT_Companies\n\u001b[1;32m----> 3\u001b[0m \u001b[38;5;28mprint\u001b[39m(IT_Companies)\n",
      "\u001b[1;31mNameError\u001b[0m: name 'IT_Companies' is not defined"
     ]
    }
   ],
   "source": [
    "print(IT_Companies)\n",
    "del IT_Companies\n",
    "print(IT_Companies)"
   ]
  },
  {
   "cell_type": "markdown",
   "id": "f354bb3d-5785-423b-9ed8-e749a9455251",
   "metadata": {},
   "source": [
    "### Question 22"
   ]
  },
  {
   "cell_type": "code",
   "execution_count": 62,
   "id": "5d98cdfc-05f7-459b-924d-13cf33f93cf7",
   "metadata": {},
   "outputs": [
    {
     "name": "stdout",
     "output_type": "stream",
     "text": [
      "['HTML', 'CSS', 'JS', 'React', 'Redux']\n",
      "['Node', 'Express', 'MongoDB']\n",
      "['HTML', 'CSS', 'JS', 'React', 'Redux', 'Node', 'Express', 'MongoDB']\n"
     ]
    }
   ],
   "source": [
    "front_end = ['HTML', 'CSS', 'JS', 'React', 'Redux']\n",
    "back_end = ['Node','Express', 'MongoDB']\n",
    "full_stack = front_end + back_end\n",
    "\n",
    "print (front_end) \n",
    "print(back_end)  \n",
    "print(full_stack)"
   ]
  },
  {
   "cell_type": "markdown",
   "id": "1c1e5eab-21ce-4fa3-a04a-63adbb5832e8",
   "metadata": {},
   "source": [
    "### Question 23"
   ]
  },
  {
   "cell_type": "markdown",
   "id": "7c33b9e0-440e-487c-b8b6-94a51c748bed",
   "metadata": {},
   "source": [
    "### Question 24"
   ]
  },
  {
   "cell_type": "code",
   "execution_count": 64,
   "id": "fb18297c-4750-4506-aa97-ce48887997e5",
   "metadata": {},
   "outputs": [
    {
     "name": "stdout",
     "output_type": "stream",
     "text": [
      "['HTML', 'CSS', 'JS', 'React', 'Redux']\n",
      "['Node', 'Express', 'MongoDB']\n",
      "['HTML', 'CSS', 'JS', 'React', 'Redux', 'Node', 'Express', 'MongoDB']\n",
      "['HTML', 'CSS', 'JS', 'React', 'Redux', 'Python', 'SQL', 'Node', 'Express', 'MongoDB']\n"
     ]
    }
   ],
   "source": [
    "front_end = ['HTML', 'CSS', 'JS', 'React', 'Redux']\n",
    "back_end = ['Node','Express', 'MongoDB']\n",
    "full_stack = front_end + back_end\n",
    "\n",
    "print (front_end) \n",
    "print(back_end)  \n",
    "print(full_stack)\n",
    "full_stack.insert(full_stack.index('Redux')+1,'SQL')\n",
    "full_stack.insert(full_stack.index('Redux')+1,'Python' )\n",
    "print(full_stack)"
   ]
  },
  {
   "cell_type": "markdown",
   "id": "7e1d0046-4485-4d22-b03e-ed5c674f4b82",
   "metadata": {},
   "source": [
    "### Question 25"
   ]
  },
  {
   "cell_type": "code",
   "execution_count": null,
   "id": "bf027318-22e9-471a-9edc-48ec93ec637f",
   "metadata": {},
   "outputs": [],
   "source": [
    "ages = [19, 22, 19, 24, 20, 25, 26, 24, 25, 24]\n"
   ]
  },
  {
   "cell_type": "markdown",
   "id": "4f042564-a09c-411e-b2e2-6298e277f585",
   "metadata": {},
   "source": [
    "### Question 26"
   ]
  },
  {
   "cell_type": "markdown",
   "id": "ed506d64-ff5e-4d49-b6dd-63f5af07a25e",
   "metadata": {},
   "source": [
    "### Question 27"
   ]
  },
  {
   "cell_type": "code",
   "execution_count": null,
   "id": "793e1021-663b-4f1d-a361-5a1e318c8191",
   "metadata": {},
   "outputs": [],
   "source": [
    "print(ages)\n",
    "ages.sort()\n",
    "print (ages)\n",
    "minimum=min(ages)\n",
    "maximum = max(ages)\n",
    "print (minimum)\n",
    "print(maximum)"
   ]
  },
  {
   "cell_type": "markdown",
   "id": "228c1f1f-2009-4394-916e-ec915d8312c6",
   "metadata": {},
   "source": [
    "### Question 28"
   ]
  },
  {
   "cell_type": "code",
   "execution_count": null,
   "id": "a1b46b78-438a-452f-89fe-a117c99cb060",
   "metadata": {},
   "outputs": [],
   "source": [
    "ages.append(minimum)\n",
    "ages.append(maximum)\n",
    "print(ages)\n",
    "ages.sort()"
   ]
  },
  {
   "cell_type": "markdown",
   "id": "7dbd5dcd-929d-4656-b9ab-0b906220bc7f",
   "metadata": {},
   "source": [
    "### Question 29"
   ]
  },
  {
   "cell_type": "code",
   "execution_count": null,
   "id": "3f5bf404-e3fe-4a1d-b0e4-5ea5119b529e",
   "metadata": {},
   "outputs": [],
   "source": [
    "mid=int(len(ages) /2 )\n",
    "print (ages)\n",
    "median = ages[mid]\n",
    "print (median)"
   ]
  },
  {
   "cell_type": "markdown",
   "id": "00b249f5-8961-4218-8bce-3b077b153e05",
   "metadata": {},
   "source": [
    "### Question 30"
   ]
  },
  {
   "cell_type": "code",
   "execution_count": null,
   "id": "fa7921e9-5f4a-4651-9866-940ddbcfea66",
   "metadata": {},
   "outputs": [],
   "source": [
    "summation = sum(ages)\n",
    "print (summation)"
   ]
  },
  {
   "cell_type": "markdown",
   "id": "f8812e25-c130-4878-ac9c-bc8e266377bd",
   "metadata": {},
   "source": [
    "### Question 31"
   ]
  },
  {
   "cell_type": "code",
   "execution_count": null,
   "id": "f8be67a2-6c55-4d4f-a803-18b1f2868db3",
   "metadata": {},
   "outputs": [],
   "source": [
    "\n",
    "minimum=min(ages)\n",
    "maximum = max(ages)\n",
    "print (maximum - minimum)\n"
   ]
  },
  {
   "cell_type": "markdown",
   "id": "9e6f9dac-21cd-4864-9037-b42ccf006e4f",
   "metadata": {},
   "source": [
    "### Question 32"
   ]
  },
  {
   "cell_type": "code",
   "execution_count": null,
   "id": "78ead843-04db-44c6-bd24-19ed07985415",
   "metadata": {},
   "outputs": [],
   "source": [
    "minimum=min(ages)\n",
    "maximum = max(ages)\n",
    "averages = sum(ages)/len(ages)\n",
    "print (abs(minimum - averages))\n",
    "print (abs(maximum - averages))"
   ]
  },
  {
   "cell_type": "markdown",
   "id": "44a02dba-a130-4558-8c76-dd7ba6f3916a",
   "metadata": {},
   "source": [
    "### Question 33"
   ]
  },
  {
   "cell_type": "code",
   "execution_count": null,
   "id": "243693b7-2ae9-4afa-bac8-60da028ecf47",
   "metadata": {},
   "outputs": [],
   "source": [
    "countries= ['China', 'Russia', 'USA', 'Finland', 'Sweden', 'Norway', 'Denmark']\n",
    "mid=int(len(countries) /2 )\n",
    "print(countries)\n",
    "print(countries[mid])"
   ]
  },
  {
   "cell_type": "markdown",
   "id": "17c94a3e-d578-42e6-8ad5-a2eb649615d6",
   "metadata": {},
   "source": [
    "### Question 34"
   ]
  },
  {
   "cell_type": "code",
   "execution_count": null,
   "id": "0f2e78af-1b73-409b-b94e-9ef326740368",
   "metadata": {},
   "outputs": [],
   "source": [
    "countries= ['China', 'Russia', 'USA', 'Finland', 'Sweden', 'Norway', 'Denmark']\n",
    "mid=int(len(countries) /2 )\n",
    "print(countries)\n",
    "\n",
    "if (mid % 2 )==0:\n",
    "    mid=mid;\n",
    "else:\n",
    "    mid+=1\n",
    "first_half= countries[0:mid]\n",
    "second_half= countries[mid:]\n",
    "print(first_half)\n",
    "print(second_half)\n"
   ]
  },
  {
   "cell_type": "markdown",
   "id": "e312eceb-ce8e-42e7-9b3b-939b54d6c494",
   "metadata": {},
   "source": [
    "### Question 35"
   ]
  },
  {
   "cell_type": "code",
   "execution_count": null,
   "id": "e235326e-b168-4234-9a81-46690a882bf4",
   "metadata": {},
   "outputs": [],
   "source": [
    "countries= ['China', 'Russia', 'USA', 'Finland', 'Sweden', 'Norway', 'Denmark']\n",
    "first,second,third,*scandic= countries\n",
    "print(first)\n",
    "print(second)\n",
    "print(third)\n",
    "print(scandic)"
   ]
  },
  {
   "cell_type": "markdown",
   "id": "637afb30-9764-4ad2-b780-480961d16af6",
   "metadata": {},
   "source": [
    "## Tuples\n"
   ]
  },
  {
   "cell_type": "markdown",
   "id": "c4d440a2-11d5-408f-89a9-1ca02f1e5c4d",
   "metadata": {},
   "source": [
    "### Question 1"
   ]
  },
  {
   "cell_type": "code",
   "execution_count": null,
   "id": "9317c8bf-6ab0-470e-8286-e56b2fb7ca78",
   "metadata": {},
   "outputs": [],
   "source": [
    "tpl= ()\n",
    "print(type(tpl))"
   ]
  },
  {
   "cell_type": "markdown",
   "id": "2e3bd48c-91af-45eb-9669-a8b594218c98",
   "metadata": {},
   "source": [
    "### Question 2"
   ]
  },
  {
   "cell_type": "code",
   "execution_count": null,
   "id": "bf14d979-c6fa-4763-8341-5e31d83b271a",
   "metadata": {},
   "outputs": [],
   "source": [
    "brothers=(\"Shahrukh\",\"Riaz\",\"Aamir\")\n",
    "sisters = (\"Nelofar\",\"Kiran\")\n",
    "print(brothers)\n",
    "print(sisters)"
   ]
  },
  {
   "cell_type": "markdown",
   "id": "71979e0d-15b8-45e9-ae74-9fc87f8ff553",
   "metadata": {},
   "source": [
    "### Question 3"
   ]
  },
  {
   "cell_type": "code",
   "execution_count": null,
   "id": "04fb260b-5c0d-4fb5-b3d2-cf8f6e36c375",
   "metadata": {},
   "outputs": [],
   "source": [
    "siblings= brothers + sisters\n",
    "print(siblings)"
   ]
  },
  {
   "cell_type": "markdown",
   "id": "820d4631-4e04-400d-8747-b3939b4659d4",
   "metadata": {},
   "source": [
    "### Question 4"
   ]
  },
  {
   "cell_type": "code",
   "execution_count": null,
   "id": "c045d915-3232-49b3-8df3-2cba701c863e",
   "metadata": {},
   "outputs": [],
   "source": [
    "count=len(siblings)\n",
    "print(count)"
   ]
  },
  {
   "cell_type": "markdown",
   "id": "4ff1e8ec-fba3-4433-8d79-2114e438144a",
   "metadata": {},
   "source": [
    "### Question 5"
   ]
  },
  {
   "cell_type": "code",
   "execution_count": null,
   "id": "1d019f78-c75a-408e-b184-15999f996a86",
   "metadata": {},
   "outputs": [],
   "source": [
    "parents=(\"Younus\",\"Azra\")\n",
    "\n",
    "family=parents+siblings\n",
    "print(family)"
   ]
  },
  {
   "cell_type": "markdown",
   "id": "faf6239f-9a49-4956-8a39-0258fec4ab45",
   "metadata": {},
   "source": [
    "### Question 6"
   ]
  },
  {
   "cell_type": "code",
   "execution_count": null,
   "id": "4839ca39-e2c7-48b2-aa35-ed03074d6189",
   "metadata": {},
   "outputs": [],
   "source": [
    "father,mother,*sibling= family\n",
    "print(father)\n",
    "print(mother)\n",
    "print(sibling)"
   ]
  },
  {
   "cell_type": "markdown",
   "id": "def15220-dcb9-41ce-96b2-d1ba4cfe8f70",
   "metadata": {},
   "source": [
    "### Question 7"
   ]
  },
  {
   "cell_type": "code",
   "execution_count": null,
   "id": "5da74116-2608-49c9-a935-ae38a6b66912",
   "metadata": {},
   "outputs": [],
   "source": [
    "fruit= (\"apple\",\"banana\",\"mango\")\n",
    "vegetable= (\"onion\",\"pepper\",\"potato\")\n",
    "animal = (\"beef\",\"mutton\")\n",
    "food_stuff_tp = fruit + vegetable + animal\n",
    "print(food_stuff_tp)\n"
   ]
  },
  {
   "cell_type": "markdown",
   "id": "1dcd7c87-09f6-46b8-b76e-93ed763693ad",
   "metadata": {},
   "source": [
    "### Question 8"
   ]
  },
  {
   "cell_type": "code",
   "execution_count": null,
   "id": "0b099d42-599b-41ab-a58a-ca13c8b4ed31",
   "metadata": {},
   "outputs": [],
   "source": [
    "food_stuff_lt= list(food_stuff_tp)\n",
    "print(food_stuff_lt)"
   ]
  },
  {
   "cell_type": "markdown",
   "id": "2c5cda9d-1936-4763-ad9d-5d5dba6c092e",
   "metadata": {},
   "source": [
    "### Question 9"
   ]
  },
  {
   "cell_type": "code",
   "execution_count": null,
   "id": "bd2ae657-3420-437b-8f2d-2357d7e95c1c",
   "metadata": {},
   "outputs": [],
   "source": [
    "mid=int(len(food_stuff_lt) /2 )\n",
    "print(food_stuff_lt[mid])"
   ]
  },
  {
   "cell_type": "markdown",
   "id": "d41a8324-8834-4c61-afaf-cdc6530bd058",
   "metadata": {},
   "source": [
    "### Question 10"
   ]
  },
  {
   "cell_type": "code",
   "execution_count": null,
   "id": "318efff4-c242-4089-9b4f-c2409a869031",
   "metadata": {},
   "outputs": [],
   "source": [
    "print(food_stuff_tp)\n",
    "start = food_stuff_tp[0:3]\n",
    "end= food_stuff_tp[-3:]\n",
    "print (start)\n",
    "print(end)"
   ]
  },
  {
   "cell_type": "markdown",
   "id": "00cd95b4-db06-4490-8dc4-5ac64f504d35",
   "metadata": {},
   "source": [
    "### Question 11"
   ]
  },
  {
   "cell_type": "code",
   "execution_count": null,
   "id": "a9589997-8919-46fc-b000-b8dd225232c7",
   "metadata": {},
   "outputs": [],
   "source": [
    "del food_stuff_tp\n",
    "print (food_stuff_tp)"
   ]
  },
  {
   "cell_type": "markdown",
   "id": "cc07f93e-d3c5-4831-9441-4ac09fbcb12e",
   "metadata": {},
   "source": [
    "## Set"
   ]
  },
  {
   "cell_type": "markdown",
   "id": "c5ccfd56-422d-4a60-9745-e359c23e2a32",
   "metadata": {},
   "source": [
    "### Question 1"
   ]
  },
  {
   "cell_type": "code",
   "execution_count": 66,
   "id": "24e231d6-f8d6-4f13-9966-cab7cc7bc3da",
   "metadata": {},
   "outputs": [
    {
     "name": "stdout",
     "output_type": "stream",
     "text": [
      "7\n",
      "{'Google', 'Apple', 'Microsoft', 'Oracle', 'Amazon', 'Facebook', 'IBM'}\n"
     ]
    }
   ],
   "source": [
    "it_companies = {'Facebook', 'Google', 'Microsoft', 'Apple', 'IBM', 'Oracle', 'Amazon'}\n",
    "A = {19, 22, 24, 20, 25, 26}\n",
    "B = {19, 22, 20, 25, 26, 24, 28, 27}\n",
    "age = [22, 19, 24, 25, 26, 24, 25, 24]\n",
    "\n",
    "length=len(it_companies)\n",
    "print(length)\n",
    "print (it_companies)"
   ]
  },
  {
   "cell_type": "markdown",
   "id": "60e29a80-d5fe-4eac-a34a-e2225fd70874",
   "metadata": {},
   "source": [
    "### Question 2"
   ]
  },
  {
   "cell_type": "code",
   "execution_count": 68,
   "id": "331fcfa9-4cbe-464f-a4a0-f5bbf65399f9",
   "metadata": {},
   "outputs": [
    {
     "name": "stdout",
     "output_type": "stream",
     "text": [
      "{'Twitter', 'Google', 'Apple', 'Microsoft', 'Oracle', 'Amazon', 'Facebook', 'IBM'}\n",
      "<class 'set'>\n"
     ]
    }
   ],
   "source": [
    "it_companies.add(\"Twitter\")\n",
    "print (it_companies)\n",
    "print (type(it_companies))"
   ]
  },
  {
   "cell_type": "markdown",
   "id": "57ed192a-8f4e-4b14-8461-efc981ba00f6",
   "metadata": {},
   "source": [
    "### Question 3"
   ]
  },
  {
   "cell_type": "code",
   "execution_count": 70,
   "id": "ca7d537a-5174-44e7-8840-5589f5f8f21e",
   "metadata": {},
   "outputs": [
    {
     "name": "stdout",
     "output_type": "stream",
     "text": [
      "{'Test 1', 'Twitter', 'Apple', 'Google', 'Oracle', 'Microsoft', 'Amazon', 'IBM', 'EOCEAN', 'Test 2', 'Facebook'}\n",
      "<class 'set'>\n"
     ]
    }
   ],
   "source": [
    "new_list = [\"EOCEAN\",\"Test 1\",\"Test 2\"]\n",
    "it_companies.update(new_list)\n",
    "\n",
    "print(it_companies)\n",
    "print(type(it_companies))"
   ]
  },
  {
   "cell_type": "markdown",
   "id": "21725ffb-5a45-42ed-aabe-9c6dcc720d24",
   "metadata": {},
   "source": [
    "### Question 4"
   ]
  },
  {
   "cell_type": "code",
   "execution_count": null,
   "id": "99e92db7-638b-479b-9626-3cc3da72efce",
   "metadata": {},
   "outputs": [],
   "source": [
    "print(it_companies)\n",
    "it_companies.remove(\"Test1\")\n",
    "print(it_companies)"
   ]
  },
  {
   "cell_type": "markdown",
   "id": "0db15fd0-1c7d-4f94-83b1-20f833136aaf",
   "metadata": {},
   "source": [
    "### Question 5"
   ]
  },
  {
   "cell_type": "code",
   "execution_count": null,
   "id": "23db20df-7409-449f-b361-ad488032cf3e",
   "metadata": {},
   "outputs": [],
   "source": [
    "# remove function raise an error if element is not in the list\n",
    "#discard function does not raise an error if element is not in the list\n"
   ]
  },
  {
   "cell_type": "markdown",
   "id": "6253429e-6721-4a79-9728-d8272babfba3",
   "metadata": {},
   "source": [
    "### Question 6"
   ]
  },
  {
   "cell_type": "code",
   "execution_count": null,
   "id": "ae8388f3-e827-4b2d-bac7-d85728c2c6a1",
   "metadata": {},
   "outputs": [],
   "source": [
    "print (A)\n",
    "print (B)\n",
    "C = A | B\n",
    "print (C)"
   ]
  },
  {
   "cell_type": "markdown",
   "id": "e7d4db2c-4afe-4726-946f-d555b8fe0066",
   "metadata": {},
   "source": [
    "### Question 7"
   ]
  },
  {
   "cell_type": "code",
   "execution_count": 72,
   "id": "94cbc161-a7cd-44da-ac3d-495f5f73e671",
   "metadata": {},
   "outputs": [
    {
     "name": "stdout",
     "output_type": "stream",
     "text": [
      "{19, 20, 22, 24, 25, 26}\n"
     ]
    }
   ],
   "source": [
    "C = A & B\n",
    "print (C)"
   ]
  },
  {
   "cell_type": "markdown",
   "id": "5e75a93f-f972-4c70-984c-213691fd36ac",
   "metadata": {},
   "source": [
    "### Question 8"
   ]
  },
  {
   "cell_type": "code",
   "execution_count": 74,
   "id": "8451621c-9af2-456c-bc44-051563517994",
   "metadata": {},
   "outputs": [
    {
     "name": "stdout",
     "output_type": "stream",
     "text": [
      "True\n"
     ]
    }
   ],
   "source": [
    "C = A <= B\n",
    "print (C)"
   ]
  },
  {
   "cell_type": "markdown",
   "id": "6722666f-e872-481e-b290-cbee4b5af96e",
   "metadata": {},
   "source": [
    "### Question 9\t"
   ]
  },
  {
   "cell_type": "code",
   "execution_count": 76,
   "id": "09d325ec-82fb-401c-83d5-cb6aeda43fb5",
   "metadata": {},
   "outputs": [
    {
     "name": "stdout",
     "output_type": "stream",
     "text": [
      "False\n"
     ]
    }
   ],
   "source": [
    "C = A.isdisjoint(B)\n",
    "print (C)"
   ]
  },
  {
   "cell_type": "markdown",
   "id": "0b6dda81-29ba-459b-8b28-2e57a49f6857",
   "metadata": {},
   "source": [
    "\n",
    "### Question 10"
   ]
  },
  {
   "cell_type": "code",
   "execution_count": 78,
   "id": "65926592-b94e-4969-a82a-30668026c666",
   "metadata": {},
   "outputs": [
    {
     "name": "stdout",
     "output_type": "stream",
     "text": [
      "{19, 20, 22, 24, 25, 26}\n",
      "{19, 20, 22, 24, 25, 26, 27, 28}\n",
      "{19, 20, 22, 24, 25, 26, 27, 28}\n",
      "{19, 20, 22, 24, 25, 26, 27, 28}\n"
     ]
    }
   ],
   "source": [
    "print (A)\n",
    "print (B)\n",
    "C = A | B\n",
    "print (C)\n",
    "D = B | A\n",
    "print (D)\n"
   ]
  },
  {
   "cell_type": "markdown",
   "id": "4729304b-18d1-4e36-9db8-a17775dcf3c0",
   "metadata": {},
   "source": [
    "\n",
    "### Question 11"
   ]
  },
  {
   "cell_type": "code",
   "execution_count": 80,
   "id": "738c975d-82a4-4b1f-ae0d-d2773cab6db1",
   "metadata": {},
   "outputs": [
    {
     "name": "stdout",
     "output_type": "stream",
     "text": [
      "{19, 20, 22, 24, 25, 26}\n",
      "{19, 20, 22, 24, 25, 26, 27, 28}\n",
      "{27, 28}\n"
     ]
    }
   ],
   "source": [
    "print (A)\n",
    "print (B)\n",
    "C = A.symmetric_difference(B)\n",
    "print (C)"
   ]
  },
  {
   "cell_type": "markdown",
   "id": "a91d8491-6ad4-4fd4-9570-d2aabdb14e06",
   "metadata": {},
   "source": [
    "\n",
    "### Question 12"
   ]
  },
  {
   "cell_type": "code",
   "execution_count": 92,
   "id": "7485ebc1-643b-498c-b31a-e6f230fdd113",
   "metadata": {},
   "outputs": [],
   "source": [
    "del A \n",
    "del B\n",
    "del C\n",
    "del D"
   ]
  },
  {
   "cell_type": "markdown",
   "id": "03f44cf4-3013-4dd7-b6f4-9e098a175a13",
   "metadata": {},
   "source": [
    "\n",
    "### Question 13"
   ]
  },
  {
   "cell_type": "code",
   "execution_count": 94,
   "id": "0da98fd9-199c-4e84-96ae-a10d9e1e1f03",
   "metadata": {},
   "outputs": [
    {
     "name": "stdout",
     "output_type": "stream",
     "text": [
      "List len 8\n",
      "Set len 5\n",
      "{19, 22, 24, 25, 26}\n"
     ]
    }
   ],
   "source": [
    "ages_set = set(age)\n",
    "\n",
    "list_len = len(age)\n",
    "set_len=len(ages_set)\n",
    "print (\"List len\",list_len)\n",
    "print (\"Set len\",set_len)\n",
    "print (ages_set)"
   ]
  },
  {
   "cell_type": "markdown",
   "id": "c1a24194-4bf9-4963-9cca-1efcd4bb687d",
   "metadata": {},
   "source": [
    "\n",
    "### Question 14"
   ]
  },
  {
   "cell_type": "code",
   "execution_count": 96,
   "id": "12371b3f-15a7-44a2-b592-2e29aff24658",
   "metadata": {},
   "outputs": [],
   "source": [
    "#string = set of characters, Text manipulation, string operations\n",
    "#List = Any (mixed types allowed), Ordered collections with mutable content\n",
    "# Tuple = Any (mixed types allowed) , Fixed data collections\n",
    "# Set = Any (mixed types allowed), Unique collections, membership testing"
   ]
  },
  {
   "cell_type": "code",
   "execution_count": null,
   "id": "0d075093-0be1-4888-85c7-a432bb472780",
   "metadata": {},
   "outputs": [],
   "source": []
  }
 ],
 "metadata": {
  "kernelspec": {
   "display_name": "Python 3 (ipykernel)",
   "language": "python",
   "name": "python3"
  },
  "language_info": {
   "codemirror_mode": {
    "name": "ipython",
    "version": 3
   },
   "file_extension": ".py",
   "mimetype": "text/x-python",
   "name": "python",
   "nbconvert_exporter": "python",
   "pygments_lexer": "ipython3",
   "version": "3.12.4"
  }
 },
 "nbformat": 4,
 "nbformat_minor": 5
}
