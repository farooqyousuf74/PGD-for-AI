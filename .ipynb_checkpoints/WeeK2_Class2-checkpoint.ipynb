{
 "cells": [
  {
   "cell_type": "code",
   "execution_count": 7,
   "id": "788d738d-bfe8-4c5e-bec6-3fa28c59b5ab",
   "metadata": {},
   "outputs": [
    {
     "name": "stdin",
     "output_type": "stream",
     "text": [
      "Enter your full name Farooq Yousuf\n",
      "Enter your first name Farooq\n"
     ]
    },
    {
     "name": "stdout",
     "output_type": "stream",
     "text": [
      "Your first name in Full name True\n",
      "Your first name not in Full name False\n"
     ]
    }
   ],
   "source": [
    "Full_Name = input(\"Enter your full name\")\n",
    "First_Name = input (\"Enter your first name\")\n",
    "\n",
    "print (\"Your first name in Full name\", First_Name in Full_Name)\n",
    "print (\"Your first name not in Full name\", First_Name not in Full_Name)\n"
   ]
  },
  {
   "cell_type": "code",
   "execution_count": 42,
   "id": "5d50f2d0-0a17-4bf4-b584-ffc82551506f",
   "metadata": {},
   "outputs": [
    {
     "name": "stdout",
     "output_type": "stream",
     "text": [
      "<class 'list'>\n",
      "['Mango', 'Banana', 'grapes', 'Avacado', 'berry', 'Apple', 'Dragon Fruit']\n",
      "7\n",
      "['Banana', 'grapes', 'Avacado', 'berry', 'Apple']\n",
      "['Mango', 'grapes', 'berry', 'Dragon Fruit']\n"
     ]
    }
   ],
   "source": [
    "fruits = []\n",
    "\n",
    "print(type(fruits))\n",
    "fruits = [\"Mango\",\"Banana\",\"grapes\",\"Avacado\",\"berry\"]\n",
    "fruits.append('Apple')\n",
    "fruits.append('Dragon Fruit')\n",
    "print(fruits)\n",
    "print(len(fruits))\n",
    "print(fruits[1:6])\n",
    "print(fruits[0::2])\n"
   ]
  },
  {
   "cell_type": "code",
   "execution_count": null,
   "id": "151aa863-acc2-42b0-ae90-a44ba5045822",
   "metadata": {},
   "outputs": [],
   "source": []
  }
 ],
 "metadata": {
  "kernelspec": {
   "display_name": "Python 3 (ipykernel)",
   "language": "python",
   "name": "python3"
  },
  "language_info": {
   "codemirror_mode": {
    "name": "ipython",
    "version": 3
   },
   "file_extension": ".py",
   "mimetype": "text/x-python",
   "name": "python",
   "nbconvert_exporter": "python",
   "pygments_lexer": "ipython3",
   "version": "3.12.4"
  }
 },
 "nbformat": 4,
 "nbformat_minor": 5
}
