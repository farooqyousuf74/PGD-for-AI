{
 "cells": [
  {
   "cell_type": "markdown",
   "id": "ab889584-437e-4e81-98a9-bceb78763cee",
   "metadata": {
    "editable": true,
    "slideshow": {
     "slide_type": ""
    },
    "tags": []
   },
   "source": [
    "#Quiz 1\n"
   ]
  },
  {
   "cell_type": "markdown",
   "id": "fb79ba6b-3ef2-423e-88bb-bb65a78ea40e",
   "metadata": {},
   "source": [
    "##Question 1 "
   ]
  },
  {
   "cell_type": "code",
   "execution_count": null,
   "id": "e7259a0f-0afc-45b2-8b4a-565099f1fc46",
   "metadata": {},
   "outputs": [],
   "source": [
    "## Answer Option d"
   ]
  },
  {
   "cell_type": "code",
   "execution_count": null,
   "id": "de0f02ed-9a56-4af5-b088-a8ce894abef9",
   "metadata": {},
   "outputs": [],
   "source": [
    "## Question 2"
   ]
  },
  {
   "cell_type": "code",
   "execution_count": null,
   "id": "44b43794-63a0-479e-84f8-1639a257f073",
   "metadata": {},
   "outputs": [],
   "source": [
    "## Answer option C\n"
   ]
  },
  {
   "cell_type": "code",
   "execution_count": null,
   "id": "a0d57937-5185-4849-863e-2403eaefc015",
   "metadata": {},
   "outputs": [],
   "source": [
    "## Question 3"
   ]
  },
  {
   "cell_type": "code",
   "execution_count": null,
   "id": "547b3ae4-05cf-4e78-9c03-c6b20c1ddc3e",
   "metadata": {},
   "outputs": [],
   "source": [
    "## Answer Option b"
   ]
  },
  {
   "cell_type": "code",
   "execution_count": null,
   "id": "f2a87988-c24f-442d-8abd-c728b01911df",
   "metadata": {},
   "outputs": [],
   "source": [
    "## Question 4\n"
   ]
  },
  {
   "cell_type": "code",
   "execution_count": null,
   "id": "70b74cf8-c1c1-4bdb-bdbb-71049090c141",
   "metadata": {},
   "outputs": [],
   "source": [
    "## Answer option A"
   ]
  },
  {
   "cell_type": "code",
   "execution_count": null,
   "id": "91d9105d-9d16-4e9c-82c0-0f816661ce12",
   "metadata": {},
   "outputs": [],
   "source": [
    "## Question 5 "
   ]
  },
  {
   "cell_type": "code",
   "execution_count": null,
   "id": "cbbcb03d-e62d-47cb-b019-4c9adb99d285",
   "metadata": {},
   "outputs": [],
   "source": [
    "## Answer option A"
   ]
  },
  {
   "cell_type": "code",
   "execution_count": null,
   "id": "a30d2efe-c647-4e4b-b3a2-7e16c89f5bb7",
   "metadata": {},
   "outputs": [],
   "source": [
    "## Question 6"
   ]
  },
  {
   "cell_type": "code",
   "execution_count": null,
   "id": "97500dd5-1922-4b73-9df2-570e55a0517d",
   "metadata": {},
   "outputs": [],
   "source": [
    "## Answer option C"
   ]
  },
  {
   "cell_type": "code",
   "execution_count": null,
   "id": "a74da6da-c6ed-4ad0-ae0a-7706cd7ffc64",
   "metadata": {},
   "outputs": [],
   "source": [
    "## Question 7"
   ]
  },
  {
   "cell_type": "code",
   "execution_count": 19,
   "id": "0cefbcf9-0437-4b52-93e4-4d0e0d7adec4",
   "metadata": {},
   "outputs": [],
   "source": [
    "## Answer \n",
    "##\n",
    "#Mutable Data Types: string, int, float, boolean, List , set\n",
    "# Immutable Data type : Tuples\n"
   ]
  },
  {
   "cell_type": "code",
   "execution_count": null,
   "id": "efb348e1-5b98-42a8-9d69-f5d5514337bc",
   "metadata": {},
   "outputs": [],
   "source": [
    "## Question 8 "
   ]
  },
  {
   "cell_type": "code",
   "execution_count": 13,
   "id": "14f50c37-0358-4e34-9a9d-0ea6cd340be7",
   "metadata": {},
   "outputs": [
    {
     "name": "stdout",
     "output_type": "stream",
     "text": [
      "List  [19, 22, 19, 24, 20, 25, 26, 24, 25, 24]\n",
      "Sorted List [19, 19, 20, 22, 24, 24, 24, 25, 25, 26]\n",
      "Minimum 19\n",
      "Maximum 26\n",
      "Updated list:  [19, 19, 20, 22, 24, 24, 24, 25, 25, 26, 19, 26]\n",
      "Mid Length [19, 19, 20, 22, 24, 24, 24, 25, 25, 26, 19, 26]\n",
      "Median  24\n",
      "Average  22.75\n",
      "Difference  7\n"
     ]
    }
   ],
   "source": [
    "ages = [19, 22, 19, 24, 20, 25, 26, 24, 25, 24]\n",
    "print(\"List \",ages)\n",
    "ages.sort()\n",
    "print (\"Sorted List\",ages)\n",
    "\n",
    "minimum=min(ages)\n",
    "maximum = max(ages)\n",
    "print (\"Minimum\",minimum)\n",
    "print(\"Maximum\",maximum)\n",
    "ages.append(minimum)\n",
    "ages.append(maximum)\n",
    "print(\"Updated list: \",ages)\n",
    "mid=int(len(ages) /2 )\n",
    "print (\"Mid Length\" ,ages)\n",
    "median = ages[mid]\n",
    "print (\"Median \", median)\n",
    "minimum=min(ages)\n",
    "maximum = max(ages)\n",
    "averages = sum(ages)/len(ages)\n",
    "print (\"Average \", averages)\n",
    "minimum=min(ages)\n",
    "maximum = max(ages)\n",
    "print (\"Difference \", maximum - minimum)"
   ]
  },
  {
   "cell_type": "code",
   "execution_count": 15,
   "id": "a93cb814-c603-4ed5-8742-2dd685bf7781",
   "metadata": {},
   "outputs": [
    {
     "name": "stdout",
     "output_type": "stream",
     "text": [
      "<class 'tuple'>\n",
      "Brothers  ('Shahrukh', 'Riaz', 'Aamir')\n",
      "Sisters  ('Nelofar', 'Kiran')\n",
      "Siblings  ('Shahrukh', 'Riaz', 'Aamir', 'Nelofar', 'Kiran')\n",
      "Count of Sibling  5\n",
      "Family ('Younus', 'Azra', 'Shahrukh', 'Riaz', 'Aamir', 'Nelofar', 'Kiran')\n",
      "Father  Younus\n",
      "Mother  Azra\n",
      "Siblings  ['Shahrukh', 'Riaz', 'Aamir', 'Nelofar', 'Kiran']\n"
     ]
    }
   ],
   "source": [
    "##Question 9\n",
    "\n",
    "tpl= ()\n",
    "print(type(tpl))\n",
    "brothers=(\"Shahrukh\",\"Riaz\",\"Aamir\")\n",
    "sisters = (\"Nelofar\",\"Kiran\")\n",
    "print(\"Brothers \", brothers)\n",
    "print(\"Sisters \",sisters)\n",
    "siblings= brothers + sisters\n",
    "print(\"Siblings \",siblings)\n",
    "count=len(siblings)\n",
    "print(\"Count of Sibling \", count)\n",
    "parents=(\"Younus\",\"Azra\")\n",
    "family=parents+siblings\n",
    "print(\"Family\", family)\n",
    "father,mother,*sibling= family\n",
    "print(\"Father \",father)\n",
    "print(\"Mother \", mother)\n",
    "print(\"Siblings \",sibling)"
   ]
  }
 ],
 "metadata": {
  "kernelspec": {
   "display_name": "Python 3 (ipykernel)",
   "language": "python",
   "name": "python3"
  },
  "language_info": {
   "codemirror_mode": {
    "name": "ipython",
    "version": 3
   },
   "file_extension": ".py",
   "mimetype": "text/x-python",
   "name": "python",
   "nbconvert_exporter": "python",
   "pygments_lexer": "ipython3",
   "version": "3.12.4"
  }
 },
 "nbformat": 4,
 "nbformat_minor": 5
}
