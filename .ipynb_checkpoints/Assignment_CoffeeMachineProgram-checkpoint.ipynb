{
 "cells": [
  {
   "cell_type": "code",
   "execution_count": null,
   "id": "93c6a4dd-25a4-4f6a-a81f-7423227758e3",
   "metadata": {},
   "outputs": [],
   "source": [
    "while (1) : \n",
    "    main_input= input('''\n",
    "    1. Espresso\n",
    "    2. Latte\n",
    "    3. Cappuccino\n",
    "    ''')\n",
    "    if (input == \"off\"):\n",
    "        break\n",
    "    elif (input == \"report\"):\n",
    "        print('''\n",
    "            Water : 100 ml\n",
    "            Milk : 50 ml\n",
    "            Coffee : 75 g\n",
    "            Money : $2.5\n",
    "        ''')\n",
    "    else:\n",
    "\n"
   ]
  }
 ],
 "metadata": {
  "kernelspec": {
   "display_name": "Python 3 (ipykernel)",
   "language": "python",
   "name": "python3"
  },
  "language_info": {
   "codemirror_mode": {
    "name": "ipython",
    "version": 3
   },
   "file_extension": ".py",
   "mimetype": "text/x-python",
   "name": "python",
   "nbconvert_exporter": "python",
   "pygments_lexer": "ipython3",
   "version": "3.12.4"
  }
 },
 "nbformat": 4,
 "nbformat_minor": 5
}
