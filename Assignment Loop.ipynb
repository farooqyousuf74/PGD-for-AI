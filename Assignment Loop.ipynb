{
 "cells": [
  {
   "cell_type": "markdown",
   "id": "0fc0032e-18bb-48c4-bd95-528a8f0b8934",
   "metadata": {},
   "source": [
    "# Q 1"
   ]
  },
  {
   "cell_type": "code",
   "execution_count": 5,
   "id": "bc8b21e2-bfdd-4450-9419-0dadda543082",
   "metadata": {},
   "outputs": [
    {
     "name": "stdout",
     "output_type": "stream",
     "text": [
      "1\n",
      "2\n",
      "3\n",
      "4\n",
      "5\n",
      "6\n",
      "7\n",
      "8\n",
      "9\n",
      "10\n"
     ]
    }
   ],
   "source": [
    "for i in range(1,11):\n",
    "    print (i)"
   ]
  },
  {
   "cell_type": "markdown",
   "id": "f9f734c1-e585-4462-a15a-7f2ed41b9c5e",
   "metadata": {},
   "source": [
    "# Q 2"
   ]
  },
  {
   "cell_type": "code",
   "execution_count": 11,
   "id": "3a4853f4-434e-4eef-b71f-62334870c81e",
   "metadata": {},
   "outputs": [
    {
     "name": "stdout",
     "output_type": "stream",
     "text": [
      "1\n",
      "2\n",
      "3\n",
      "4\n",
      "5\n"
     ]
    }
   ],
   "source": [
    "mylist=[1,2,3,4,5]\n",
    "for i in mylist:\n",
    "    print (i)"
   ]
  },
  {
   "cell_type": "markdown",
   "id": "94c1f3e5-4f10-48bb-984f-ddb06d143846",
   "metadata": {},
   "source": [
    "# Q 3"
   ]
  },
  {
   "cell_type": "code",
   "execution_count": 18,
   "id": "e6104388-c17d-4911-a030-5b4e364dc122",
   "metadata": {},
   "outputs": [
    {
     "name": "stdout",
     "output_type": "stream",
     "text": [
      "[3, 4, 5, 6] 18\n"
     ]
    }
   ],
   "source": [
    "def sum_list(looplist):\n",
    "    total=0\n",
    "    for num in looplist:\n",
    "        itemType = type(num)\n",
    "\n",
    "        if itemType == int :\n",
    "            total+=num\n",
    "        elif itemType == float :\n",
    "            total+=num\n",
    "        elif itemType == list :\n",
    "            print (\"in list\")\n",
    "            t=sum_list(num)\n",
    "            print(t)\n",
    "            total+=t\n",
    "        else:\n",
    "            total=total\n",
    "    return total\n",
    "\n",
    "\n",
    "mylist = [3,4,5,6]\n",
    "result = sum_list(mylist)\n",
    "print (mylist,result)"
   ]
  },
  {
   "cell_type": "markdown",
   "id": "2b4513c9-d17b-425a-a75b-548962ef0ca2",
   "metadata": {},
   "source": [
    "# Q 4"
   ]
  },
  {
   "cell_type": "code",
   "execution_count": 44,
   "id": "72d18348-a83f-493c-a4b5-94a62c556485",
   "metadata": {},
   "outputs": [
    {
     "name": "stdout",
     "output_type": "stream",
     "text": [
      "['1a', '2b', '3c', '4d'] 1a2b3c4d\n"
     ]
    }
   ],
   "source": [
    "def concat_list(looplist):\n",
    "    total=\"\"\n",
    "    for str in looplist:\n",
    "            total += str\n",
    "    return total\n",
    "\n",
    "\n",
    "mylist = [\"1a\",\"2b\",\"3c\",\"4d\"]\n",
    "result = concat_list(mylist)\n",
    "print (mylist,result)"
   ]
  },
  {
   "cell_type": "markdown",
   "id": "1d32a405-413c-4b72-90fb-80ade7bba14f",
   "metadata": {},
   "source": [
    "# Q 5"
   ]
  },
  {
   "cell_type": "code",
   "execution_count": 49,
   "id": "0bb1c6ec-da50-45fc-a616-deff7f1fdb50",
   "metadata": {},
   "outputs": [
    {
     "name": "stdout",
     "output_type": "stream",
     "text": [
      "45\n"
     ]
    }
   ],
   "source": [
    "def highest(*args):\n",
    "    high=0\n",
    "    for num in args:\n",
    "        if (high < num):\n",
    "            high = num\n",
    "\n",
    "    return high\n",
    "\n",
    "\n",
    "result = highest(4,5,2,3,4,3,45,5)\n",
    "print (result)"
   ]
  },
  {
   "cell_type": "markdown",
   "id": "0c3ccd14-8b39-4eeb-9ba8-37ea21c130ac",
   "metadata": {},
   "source": [
    "# Q 6"
   ]
  },
  {
   "cell_type": "code",
   "execution_count": 76,
   "id": "cdfdfcee-2049-410c-b602-97b4f9f13bd9",
   "metadata": {},
   "outputs": [
    {
     "name": "stdout",
     "output_type": "stream",
     "text": [
      "385\n"
     ]
    }
   ],
   "source": [
    "mylist=[1,2,3,4,5,6,7,8,9,10]\n",
    "\n",
    "total = 0\n",
    "for num in mylist:\n",
    "    total += num*num\n",
    "print (total)"
   ]
  },
  {
   "cell_type": "markdown",
   "id": "c1e3c7c9-dba8-421b-97ca-878ad5b34a01",
   "metadata": {},
   "source": [
    "# Q 7"
   ]
  },
  {
   "cell_type": "code",
   "execution_count": 81,
   "id": "03f287c4-4845-4f84-a92b-ba9f133115c9",
   "metadata": {},
   "outputs": [
    {
     "name": "stdout",
     "output_type": "stream",
     "text": [
      "[2, 4, 6, 8, 10]\n"
     ]
    }
   ],
   "source": [
    "mylist = [1,2,3,4,5,6,7,8,9,10]\n",
    "rt=[]\n",
    "for number in mylist:\n",
    "    check =number%2\n",
    "    if(check ):\n",
    "        c=1\n",
    "    else:\n",
    "        rt.append(number)\n",
    "print (rt)\n",
    "\n",
    "\n",
    "    "
   ]
  },
  {
   "cell_type": "markdown",
   "id": "ed8818ad-0d2e-4e73-bdc7-a5f3258b981a",
   "metadata": {},
   "source": [
    "# Q 8 "
   ]
  },
  {
   "cell_type": "code",
   "execution_count": 17,
   "id": "350102c2-5720-4996-81ed-c4d9aa6d8c77",
   "metadata": {},
   "outputs": [
    {
     "name": "stdout",
     "output_type": "stream",
     "text": [
      "[12, 14, 16, 18, 20]\n"
     ]
    }
   ],
   "source": [
    "list1 = [1,2,3,4,5]\n",
    "list2 = [11,12,13,14,15]\n",
    "\n",
    "list3 = []\n",
    "length = len(list1)\n",
    "loop =0\n",
    "while ( loop < length ):\n",
    "    list3.append ( list1[loop] + list2[loop] )\n",
    "    loop += 1\n",
    "print (list3)    "
   ]
  },
  {
   "cell_type": "markdown",
   "id": "5d03c13f-2daf-4e54-b18f-c45fc7f8184d",
   "metadata": {},
   "source": [
    "# Q 9"
   ]
  },
  {
   "cell_type": "code",
   "execution_count": 26,
   "id": "2a857a78-f1da-4037-bd74-81bb6d409a23",
   "metadata": {},
   "outputs": [
    {
     "name": "stdout",
     "output_type": "stream",
     "text": [
      "[6, 6, 6, 8, 6, 5, 5]\n"
     ]
    }
   ],
   "source": [
    "list1 = [\"farooq\",\"Samina\",\"hammad\",\"summaiya\",\"aleena\",\"aneeb\",\"haziq\"]\n",
    "list2 = []\n",
    "length = len(list1)\n",
    "loop =0 \n",
    "while(loop < length):\n",
    "    list2.append(len(list1[loop]))\n",
    "    loop += 1\n",
    "print(list2)"
   ]
  },
  {
   "cell_type": "markdown",
   "id": "73324152-cbb6-458d-9afe-40b111773aff",
   "metadata": {},
   "source": [
    "# Q10"
   ]
  },
  {
   "cell_type": "code",
   "execution_count": 8,
   "id": "e956a134-160c-4b8f-908c-aa67c1b0cce7",
   "metadata": {},
   "outputs": [
    {
     "name": "stdout",
     "output_type": "stream",
     "text": [
      "2\n",
      "4\n",
      "6\n",
      "8\n",
      "10\n"
     ]
    }
   ],
   "source": [
    "list = [1,2,3,4,5,6,7,8,9,10]\n",
    "for i in range (1,11,2):\n",
    "    print (list[i])"
   ]
  },
  {
   "cell_type": "code",
   "execution_count": null,
   "id": "71f2717d-9813-4a54-ab19-0b6be27bc3a4",
   "metadata": {},
   "outputs": [],
   "source": []
  }
 ],
 "metadata": {
  "kernelspec": {
   "display_name": "Python 3 (ipykernel)",
   "language": "python",
   "name": "python3"
  },
  "language_info": {
   "codemirror_mode": {
    "name": "ipython",
    "version": 3
   },
   "file_extension": ".py",
   "mimetype": "text/x-python",
   "name": "python",
   "nbconvert_exporter": "python",
   "pygments_lexer": "ipython3",
   "version": "3.12.4"
  }
 },
 "nbformat": 4,
 "nbformat_minor": 5
}
