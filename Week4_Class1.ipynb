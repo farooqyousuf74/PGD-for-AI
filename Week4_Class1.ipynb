{
 "cells": [
  {
   "cell_type": "code",
   "execution_count": 66,
   "id": "6a1a2c14-b0ad-4bb2-8f7c-efec61c5ffa7",
   "metadata": {},
   "outputs": [
    {
     "name": "stdout",
     "output_type": "stream",
     "text": [
      "{'Name': 'Farooq', 'Gender': 'Male', 'Skills': ['Data Science', 'ML', 'AI'], 'Age': 50}\n",
      "<class 'dict'>\n",
      "{'Name': 'Farooq Yousuf', 'Gender': 'Male', 'Marks': {'Ml': 50, 'AI': 60, 'DL': 70}}\n",
      "<class 'dict'>\n",
      "{'Name': 'Farooq Yousuf', 'Gender': 'Male', 'Skills': ['Data Science', 'ML', 'AI'], 'Age': 50, 'Marks': {'Ml': 50, 'AI': 60, 'DL': 70}}\n",
      "dict_keys(['Name', 'Gender', 'Skills', 'Age', 'Marks'])\n",
      "dict_items([('Name', 'Farooq Yousuf'), ('Gender', 'Male'), ('Skills', ['Data Science', 'ML', 'AI']), ('Age', 50), ('Marks', {'Ml': 50, 'AI': 60, 'DL': 70})])\n",
      "dict_values(['Farooq Yousuf', 'Male', ['Data Science', 'ML', 'AI'], 50, {'Ml': 50, 'AI': 60, 'DL': 70}])\n",
      "70\n",
      "5\n",
      "{'Name': 'Farooq Yousuf', 'Gender': 'Male', 'Skills': ['Data Science', 'ML', 'AI'], 'Age': 50, 'Marks': {'Ml': 50, 'AI': 60, 'DL': 70}, 'Organization': 'EOCEAN'}\n",
      "{'Name': 'Farooq Yousuf', 'Gender': 'Male', 'Skills': ['Data Science', 'ML', 'AI'], 'Age': 50, 'Marks': {'Ml': 50, 'AI': 60, 'DL': 70}, 'Organization': 'EOCEAN', 'roll': 32, 'test': 234}\n",
      "['Age', 'Gender', 'Marks', 'Name', 'Organization', 'Skills', 'roll', 'test']\n",
      "{'Name': 'Farooq Yousuf', 'Gender': 'Male', 'Skills': ['Data Science', 'ML', 'AI'], 'Age': 50, 'Marks': {'Ml': 50, 'AI': 60, 'DL': 70}, 'Organization': 'EOCEAN', 'roll': 32, 'test': 234}\n",
      "{'Gender': 'Male', 'Skills': ['Data Science', 'ML', 'AI'], 'Age': 50, 'Marks': {'Ml': 50, 'AI': 60, 'DL': 70}, 'Organization': 'EOCEAN', 'roll': 32, 'test': 234}\n"
     ]
    }
   ],
   "source": [
    "d = { 'Name' : \"Farooq\" , \n",
    "          'Gender': \"Male\",\n",
    "          'Skills': ['Data Science', \"ML\",\"AI\"],\n",
    "          'Age':50\n",
    "         }\n",
    "print(d)\n",
    "print (type(d))\n",
    "\n",
    "d2 = {'Name':'Farooq Yousuf',\n",
    "      'Gender':'Male',\n",
    "      'Marks':{'Ml':50,\n",
    "                'AI':60,\n",
    "                'DL':70\n",
    "              }\n",
    "     }\n",
    "print(d2)\n",
    "print(type(d2))\n",
    "\n",
    "d.update(d2)\n",
    "print(d)\n",
    "\n",
    "print(d.keys())\n",
    "print(d.items())\n",
    "print(d.values())\n",
    "print (d.get('Marks')['DL'])\n",
    "\n",
    "print (len(d))\n",
    "d['Organization'] = \"EOCEAN\"\n",
    "print (d)\n",
    "\n",
    "d.update({'roll':32, 'test':234})\n",
    "print(d)\n",
    "print(sorted(d))\n",
    "print(d)\n",
    "\n",
    "d.pop('Name')\n",
    "print(d)"
   ]
  },
  {
   "cell_type": "code",
   "execution_count": 82,
   "id": "09f0cf90-37d3-4838-bdba-726b9308f9af",
   "metadata": {},
   "outputs": [
    {
     "name": "stdout",
     "output_type": "stream",
     "text": [
      "Bronco\n",
      "{'brand': 'Ford', 'year': 1964, 'model': 'Bronco'}\n"
     ]
    }
   ],
   "source": [
    "car = {\n",
    "  \"brand\": \"Ford\",\n",
    "\n",
    "  \"year\": 1964\n",
    "}\n",
    "\n",
    "x = car.setdefault(\"model\", \"Bronco\")\n",
    "\n",
    "print(x)\n",
    "print (car)"
   ]
  },
  {
   "cell_type": "code",
   "execution_count": 94,
   "id": "b4861623-2412-4abb-9ab9-d3f7c518b29a",
   "metadata": {},
   "outputs": [
    {
     "name": "stdout",
     "output_type": "stream",
     "text": [
      "['__doc__', '__loader__', '__name__', '__package__', '__spec__', 'acos', 'acosh', 'asin', 'asinh', 'atan', 'atan2', 'atanh', 'cbrt', 'ceil', 'comb', 'copysign', 'cos', 'cosh', 'degrees', 'dist', 'e', 'erf', 'erfc', 'exp', 'exp2', 'expm1', 'fabs', 'factorial', 'floor', 'fmod', 'frexp', 'fsum', 'gamma', 'gcd', 'hypot', 'inf', 'isclose', 'isfinite', 'isinf', 'isnan', 'isqrt', 'lcm', 'ldexp', 'lgamma', 'log', 'log10', 'log1p', 'log2', 'modf', 'nan', 'nextafter', 'perm', 'pi', 'pow', 'prod', 'radians', 'remainder', 'sin', 'sinh', 'sqrt', 'sumprod', 'tan', 'tanh', 'tau', 'trunc', 'ulp']\n",
      "3\n",
      "4\n"
     ]
    }
   ],
   "source": [
    "import math\n",
    "\n",
    "print(dir(math))\n",
    "\n",
    "value = 3.5\n",
    "print (math.floor(value))\n",
    "print( math.ceil(value))\n",
    "\n"
   ]
  },
  {
   "cell_type": "code",
   "execution_count": 96,
   "id": "2291eee1-7d8c-4287-9b32-0dbf6c05a23f",
   "metadata": {},
   "outputs": [
    {
     "name": "stdout",
     "output_type": "stream",
     "text": [
      "['AddPackagePath', 'Module', 'ModuleFinder', 'ReplacePackage', '_C_BUILTIN', '_C_EXTENSION', '_PKG_DIRECTORY', '_PY_COMPILED', '_PY_FROZEN', '_PY_SOURCE', '_SEARCH_ERROR', '__builtins__', '__cached__', '__doc__', '__file__', '__loader__', '__name__', '__package__', '__spec__', '_find_module', 'dis', 'importlib', 'io', 'marshal', 'os', 'packagePathMap', 'replacePackageMap', 'sys', 'test']\n"
     ]
    }
   ],
   "source": [
    "import modulefinder\n",
    "print (dir(modulefinder))"
   ]
  },
  {
   "cell_type": "code",
   "execution_count": 109,
   "id": "7489cb6b-1e43-4f00-aab5-912fd9cd9524",
   "metadata": {},
   "outputs": [
    {
     "name": "stdout",
     "output_type": "stream",
     "text": [
      "Help on module keyword:\n",
      "\n",
      "NAME\n",
      "    keyword - Keywords (from \"Grammar/python.gram\")\n",
      "\n",
      "MODULE REFERENCE\n",
      "    https://docs.python.org/3.12/library/keyword.html\n",
      "\n",
      "    The following documentation is automatically generated from the Python\n",
      "    source files.  It may be incomplete, incorrect or include features that\n",
      "    are considered implementation detail and may vary between Python\n",
      "    implementations.  When in doubt, consult the module reference at the\n",
      "    location listed above.\n",
      "\n",
      "DESCRIPTION\n",
      "    This file is automatically generated; please don't muck it up!\n",
      "\n",
      "    To update the symbols in this file, 'cd' to the top directory of\n",
      "    the python source tree and run:\n",
      "\n",
      "        PYTHONPATH=Tools/peg_generator python3 -m pegen.keywordgen         Grammar/python.gram         Grammar/Tokens         Lib/keyword.py\n",
      "\n",
      "    Alternatively, you can run 'make regen-keyword'.\n",
      "\n",
      "FUNCTIONS\n",
      "    iskeyword = __contains__(...) method of builtins.frozenset instance\n",
      "        x.__contains__(y) <==> y in x.\n",
      "\n",
      "    issoftkeyword = __contains__(...) method of builtins.frozenset instance\n",
      "        x.__contains__(y) <==> y in x.\n",
      "\n",
      "DATA\n",
      "    __all__ = ['iskeyword', 'issoftkeyword', 'kwlist', 'softkwlist']\n",
      "    kwlist = ['False', 'None', 'True', 'and', 'as', 'assert', 'async', 'aw...\n",
      "    softkwlist = ['_', 'case', 'match', 'type']\n",
      "\n",
      "FILE\n",
      "    c:\\programdata\\anaconda3\\lib\\keyword.py\n",
      "\n",
      "\n"
     ]
    }
   ],
   "source": [
    "\n",
    "import keyword\n",
    "dir(keyword)\n",
    "\n",
    "help(keyword)"
   ]
  },
  {
   "cell_type": "code",
   "execution_count": 111,
   "id": "f0ce4929-0c03-412a-90dd-6ca8075ca414",
   "metadata": {},
   "outputs": [
    {
     "data": {
      "text/plain": [
       "1"
      ]
     },
     "execution_count": 111,
     "metadata": {},
     "output_type": "execute_result"
    }
   ],
   "source": [
    "\n",
    "import random\n",
    "random.randint(1,10)"
   ]
  },
  {
   "cell_type": "code",
   "execution_count": 119,
   "id": "0b14e067-70b3-49b5-b1b7-a0cc3110f299",
   "metadata": {},
   "outputs": [
    {
     "name": "stdout",
     "output_type": "stream",
     "text": [
      "[1, 2, 3]\n",
      "(1, 2, 3)\n",
      "{1, 2, 3}\n",
      "{1: 'a', 2: 'b'}\n",
      "[1, 2, 3, 4]\n",
      "(1, 2, 3)\n",
      "{1, 2, 3, 4}\n",
      "{1: 'a', 2: 'b', 3: 'c'}\n"
     ]
    }
   ],
   "source": [
    "# List\n",
    "lst = [1, 2, 3]\n",
    "\n",
    "# Tuple\n",
    "tpl = (1, 2, 3)\n",
    "\n",
    "# Set\n",
    "st = set()\n",
    "st = {1, 2, 3}\n",
    "# Dictionary\n",
    "dct = {1: 'a', 2: 'b'}\n",
    "\n",
    "print (lst)\n",
    "print (tpl)\n",
    "print (st)\n",
    "print (dct)\n",
    "\n",
    "lst.append(4)  # [1, 2, 3, 4]\n",
    "# tpl[0] = 0   # Error: Tuples are immutable\n",
    "st.add(4)     # {1, 2, 3, 4}\n",
    "dct[3] = 'c'  # {1: 'a', 2: 'b', 3: 'c'}\n",
    "\n",
    "print (lst)\n",
    "print (tpl)\n",
    "print (st)\n",
    "print (dct)"
   ]
  },
  {
   "cell_type": "code",
   "execution_count": null,
   "id": "efcb3e30-84a4-41a0-8b00-a344f12cfbbb",
   "metadata": {},
   "outputs": [],
   "source": []
  }
 ],
 "metadata": {
  "kernelspec": {
   "display_name": "Python 3 (ipykernel)",
   "language": "python",
   "name": "python3"
  },
  "language_info": {
   "codemirror_mode": {
    "name": "ipython",
    "version": 3
   },
   "file_extension": ".py",
   "mimetype": "text/x-python",
   "name": "python",
   "nbconvert_exporter": "python",
   "pygments_lexer": "ipython3",
   "version": "3.12.4"
  }
 },
 "nbformat": 4,
 "nbformat_minor": 5
}
